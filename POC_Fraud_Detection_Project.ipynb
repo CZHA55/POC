{
  "nbformat": 4,
  "nbformat_minor": 0,
  "metadata": {
    "colab": {
      "name": "POC_Fraud_Detection_Project.ipynb",
      "provenance": []
    },
    "kernelspec": {
      "name": "python3",
      "display_name": "Python 3"
    }
  },
  "cells": [
    {
      "cell_type": "markdown",
      "metadata": {
        "id": "m5sqWGN26i9X",
        "colab_type": "text"
      },
      "source": [
        "\"user_id\" is unique by user\n",
        "\"class\": whether the activity is fradulent(1) or not(0)"
      ]
    },
    {
      "cell_type": "markdown",
      "metadata": {
        "id": "VQlKCSnxp2CL",
        "colab_type": "text"
      },
      "source": [
        "#Loading Packages"
      ]
    },
    {
      "cell_type": "code",
      "metadata": {
        "id": "jfKhBqNMobdA",
        "colab_type": "code",
        "colab": {}
      },
      "source": [
        "import pandas as pd \n",
        "import numpy as np\n",
        "import time\n",
        "import matplotlib.pyplot as plt\n",
        "from sklearn import metrics\n",
        "from sklearn.metrics import roc_curve\n",
        "from sklearn.model_selection import train_test_split,GridSearchCV,RandomizedSearchCV\n",
        "from sklearn.linear_model import LogisticRegression\n",
        "from sklearn.ensemble import RandomForestClassifier\n",
        "from imblearn.over_sampling import SMOTE\n",
        "from sklearn import preprocessing\n",
        "from sklearn.preprocessing import MinMaxScaler\n",
        "from sklearn.metrics import f1_score, roc_auc_score, roc_curve, precision_recall_curve, auc, make_scorer, recall_score, accuracy_score, precision_score, confusion_matrix\n",
        "#!pip install -U imbalanced-learn   \n",
        "# !pip install pandas-profiling"
      ],
      "execution_count": null,
      "outputs": []
    },
    {
      "cell_type": "markdown",
      "metadata": {
        "id": "1iXSG2fCp05G",
        "colab_type": "text"
      },
      "source": [
        "#Load Dataset\n"
      ]
    },
    {
      "cell_type": "code",
      "metadata": {
        "id": "B5gp1KusgCkX",
        "colab_type": "code",
        "colab": {
          "base_uri": "https://localhost:8080/",
          "height": 34
        },
        "outputId": "66455f25-6226-4912-a8f0-a7b13cf5c699"
      },
      "source": [
        "from google.colab import drive\n",
        "drive.mount('/content/drive')"
      ],
      "execution_count": null,
      "outputs": [
        {
          "output_type": "stream",
          "text": [
            "Drive already mounted at /content/drive; to attempt to forcibly remount, call drive.mount(\"/content/drive\", force_remount=True).\n"
          ],
          "name": "stdout"
        }
      ]
    },
    {
      "cell_type": "code",
      "metadata": {
        "id": "UXVYkvlBopga",
        "colab_type": "code",
        "colab": {
          "base_uri": "https://localhost:8080/",
          "height": 196
        },
        "outputId": "31d82d08-2ec0-43f6-833f-5bb5ec9fe28b"
      },
      "source": [
        "ipToCountry = pd.read_csv('/content/drive/My Drive/IpAddress_to_Country.csv')\n",
        "fraud = pd.read_csv('/content/drive/My Drive//imbalancedFraudDF.csv')\n",
        "\n",
        "fraud.head() #show top 5 rows "
      ],
      "execution_count": null,
      "outputs": [
        {
          "output_type": "execute_result",
          "data": {
            "text/html": [
              "<div>\n",
              "<style scoped>\n",
              "    .dataframe tbody tr th:only-of-type {\n",
              "        vertical-align: middle;\n",
              "    }\n",
              "\n",
              "    .dataframe tbody tr th {\n",
              "        vertical-align: top;\n",
              "    }\n",
              "\n",
              "    .dataframe thead th {\n",
              "        text-align: right;\n",
              "    }\n",
              "</style>\n",
              "<table border=\"1\" class=\"dataframe\">\n",
              "  <thead>\n",
              "    <tr style=\"text-align: right;\">\n",
              "      <th></th>\n",
              "      <th>user_id</th>\n",
              "      <th>signup_time</th>\n",
              "      <th>purchase_time</th>\n",
              "      <th>purchase_value</th>\n",
              "      <th>device_id</th>\n",
              "      <th>source</th>\n",
              "      <th>browser</th>\n",
              "      <th>sex</th>\n",
              "      <th>age</th>\n",
              "      <th>ip_address</th>\n",
              "      <th>class</th>\n",
              "    </tr>\n",
              "  </thead>\n",
              "  <tbody>\n",
              "    <tr>\n",
              "      <th>0</th>\n",
              "      <td>22058</td>\n",
              "      <td>2015-02-24 22:55:49</td>\n",
              "      <td>2015-04-18 02:47:11</td>\n",
              "      <td>34</td>\n",
              "      <td>QVPSPJUOCKZAR</td>\n",
              "      <td>SEO</td>\n",
              "      <td>Chrome</td>\n",
              "      <td>M</td>\n",
              "      <td>39</td>\n",
              "      <td>7.327584e+08</td>\n",
              "      <td>0</td>\n",
              "    </tr>\n",
              "    <tr>\n",
              "      <th>1</th>\n",
              "      <td>333320</td>\n",
              "      <td>2015-06-07 20:39:50</td>\n",
              "      <td>2015-06-08 01:38:54</td>\n",
              "      <td>16</td>\n",
              "      <td>EOGFQPIZPYXFZ</td>\n",
              "      <td>Ads</td>\n",
              "      <td>Chrome</td>\n",
              "      <td>F</td>\n",
              "      <td>53</td>\n",
              "      <td>3.503114e+08</td>\n",
              "      <td>0</td>\n",
              "    </tr>\n",
              "    <tr>\n",
              "      <th>2</th>\n",
              "      <td>150084</td>\n",
              "      <td>2015-04-28 21:13:25</td>\n",
              "      <td>2015-05-04 13:54:50</td>\n",
              "      <td>44</td>\n",
              "      <td>ATGTXKYKUDUQN</td>\n",
              "      <td>SEO</td>\n",
              "      <td>Safari</td>\n",
              "      <td>M</td>\n",
              "      <td>41</td>\n",
              "      <td>3.840542e+09</td>\n",
              "      <td>0</td>\n",
              "    </tr>\n",
              "    <tr>\n",
              "      <th>3</th>\n",
              "      <td>221365</td>\n",
              "      <td>2015-07-21 07:09:52</td>\n",
              "      <td>2015-09-09 18:40:53</td>\n",
              "      <td>39</td>\n",
              "      <td>NAUITBZFJKHWW</td>\n",
              "      <td>Ads</td>\n",
              "      <td>Safari</td>\n",
              "      <td>M</td>\n",
              "      <td>45</td>\n",
              "      <td>4.155831e+08</td>\n",
              "      <td>0</td>\n",
              "    </tr>\n",
              "    <tr>\n",
              "      <th>4</th>\n",
              "      <td>159135</td>\n",
              "      <td>2015-05-21 06:03:03</td>\n",
              "      <td>2015-07-09 08:05:14</td>\n",
              "      <td>42</td>\n",
              "      <td>ALEYXFXINSXLZ</td>\n",
              "      <td>Ads</td>\n",
              "      <td>Chrome</td>\n",
              "      <td>M</td>\n",
              "      <td>18</td>\n",
              "      <td>2.809315e+09</td>\n",
              "      <td>0</td>\n",
              "    </tr>\n",
              "  </tbody>\n",
              "</table>\n",
              "</div>"
            ],
            "text/plain": [
              "   user_id          signup_time        purchase_time  ...  age    ip_address class\n",
              "0    22058  2015-02-24 22:55:49  2015-04-18 02:47:11  ...   39  7.327584e+08     0\n",
              "1   333320  2015-06-07 20:39:50  2015-06-08 01:38:54  ...   53  3.503114e+08     0\n",
              "2   150084  2015-04-28 21:13:25  2015-05-04 13:54:50  ...   41  3.840542e+09     0\n",
              "3   221365  2015-07-21 07:09:52  2015-09-09 18:40:53  ...   45  4.155831e+08     0\n",
              "4   159135  2015-05-21 06:03:03  2015-07-09 08:05:14  ...   18  2.809315e+09     0\n",
              "\n",
              "[5 rows x 11 columns]"
            ]
          },
          "metadata": {
            "tags": []
          },
          "execution_count": 7
        }
      ]
    },
    {
      "cell_type": "markdown",
      "metadata": {
        "id": "ZlwEaImtrLsq",
        "colab_type": "text"
      },
      "source": [
        "#Exploration Data Analysis\n"
      ]
    },
    {
      "cell_type": "markdown",
      "metadata": {
        "id": "604GTTlB7vJM",
        "colab_type": "text"
      },
      "source": [
        "Missing value& Duplicate value?"
      ]
    },
    {
      "cell_type": "code",
      "metadata": {
        "id": "oluJhlx4720W",
        "colab_type": "code",
        "colab": {
          "base_uri": "https://localhost:8080/",
          "height": 226
        },
        "outputId": "9b3d530d-1865-4a8f-96b9-9772646fff5a"
      },
      "source": [
        "# count of NaN in each column\n",
        "fraud.isna().sum() # .isna to look for NaN value(missing value) "
      ],
      "execution_count": null,
      "outputs": [
        {
          "output_type": "execute_result",
          "data": {
            "text/plain": [
              "user_id           0\n",
              "signup_time       0\n",
              "purchase_time     0\n",
              "purchase_value    0\n",
              "device_id         0\n",
              "source            0\n",
              "browser           0\n",
              "sex               0\n",
              "age               0\n",
              "ip_address        0\n",
              "class             0\n",
              "dtype: int64"
            ]
          },
          "metadata": {
            "tags": []
          },
          "execution_count": 8
        }
      ]
    },
    {
      "cell_type": "code",
      "metadata": {
        "id": "3MB26FOQ9EPM",
        "colab_type": "code",
        "colab": {
          "base_uri": "https://localhost:8080/",
          "height": 34
        },
        "outputId": "8ee62bc1-3dd9-4190-aa53-112c6f8bfd6b"
      },
      "source": [
        "#加入查duplicate \n",
        "fraud.duplicated().sum()"
      ],
      "execution_count": null,
      "outputs": [
        {
          "output_type": "execute_result",
          "data": {
            "text/plain": [
              "0"
            ]
          },
          "metadata": {
            "tags": []
          },
          "execution_count": 9
        }
      ]
    },
    {
      "cell_type": "code",
      "metadata": {
        "id": "GFGcD8r-optI",
        "colab_type": "code",
        "colab": {
          "base_uri": "https://localhost:8080/",
          "height": 69
        },
        "outputId": "c4518091-f947-4a5f-e622-b1fb46576f14"
      },
      "source": [
        "#Distribution of the label column \n",
        "fraud['class'].value_counts() "
      ],
      "execution_count": null,
      "outputs": [
        {
          "output_type": "execute_result",
          "data": {
            "text/plain": [
              "0    136961\n",
              "1      1415\n",
              "Name: class, dtype: int64"
            ]
          },
          "metadata": {
            "tags": []
          },
          "execution_count": 10
        }
      ]
    },
    {
      "cell_type": "code",
      "metadata": {
        "id": "Dgr46xOIopw4",
        "colab_type": "code",
        "colab": {
          "base_uri": "https://localhost:8080/",
          "height": 196
        },
        "outputId": "6b4b777b-4d6c-4019-b562-d4cf3d736d3c"
      },
      "source": [
        "#Identify country info based on ip_address\n",
        "ipToCountry.head()"
      ],
      "execution_count": null,
      "outputs": [
        {
          "output_type": "execute_result",
          "data": {
            "text/html": [
              "<div>\n",
              "<style scoped>\n",
              "    .dataframe tbody tr th:only-of-type {\n",
              "        vertical-align: middle;\n",
              "    }\n",
              "\n",
              "    .dataframe tbody tr th {\n",
              "        vertical-align: top;\n",
              "    }\n",
              "\n",
              "    .dataframe thead th {\n",
              "        text-align: right;\n",
              "    }\n",
              "</style>\n",
              "<table border=\"1\" class=\"dataframe\">\n",
              "  <thead>\n",
              "    <tr style=\"text-align: right;\">\n",
              "      <th></th>\n",
              "      <th>lower_bound_ip_address</th>\n",
              "      <th>upper_bound_ip_address</th>\n",
              "      <th>country</th>\n",
              "    </tr>\n",
              "  </thead>\n",
              "  <tbody>\n",
              "    <tr>\n",
              "      <th>0</th>\n",
              "      <td>16777216.0</td>\n",
              "      <td>16777471</td>\n",
              "      <td>Australia</td>\n",
              "    </tr>\n",
              "    <tr>\n",
              "      <th>1</th>\n",
              "      <td>16777472.0</td>\n",
              "      <td>16777727</td>\n",
              "      <td>China</td>\n",
              "    </tr>\n",
              "    <tr>\n",
              "      <th>2</th>\n",
              "      <td>16777728.0</td>\n",
              "      <td>16778239</td>\n",
              "      <td>China</td>\n",
              "    </tr>\n",
              "    <tr>\n",
              "      <th>3</th>\n",
              "      <td>16778240.0</td>\n",
              "      <td>16779263</td>\n",
              "      <td>Australia</td>\n",
              "    </tr>\n",
              "    <tr>\n",
              "      <th>4</th>\n",
              "      <td>16779264.0</td>\n",
              "      <td>16781311</td>\n",
              "      <td>China</td>\n",
              "    </tr>\n",
              "  </tbody>\n",
              "</table>\n",
              "</div>"
            ],
            "text/plain": [
              "   lower_bound_ip_address  upper_bound_ip_address    country\n",
              "0              16777216.0                16777471  Australia\n",
              "1              16777472.0                16777727      China\n",
              "2              16777728.0                16778239      China\n",
              "3              16778240.0                16779263  Australia\n",
              "4              16779264.0                16781311      China"
            ]
          },
          "metadata": {
            "tags": []
          },
          "execution_count": 11
        }
      ]
    },
    {
      "cell_type": "code",
      "metadata": {
        "id": "mJySuEk09QUz",
        "colab_type": "code",
        "colab": {
          "base_uri": "https://localhost:8080/",
          "height": 226
        },
        "outputId": "e1822a82-18f2-47ee-d355-41b75c15ffc4"
      },
      "source": [
        "ipToCountry['lower_bound_ip_address'] <= 16777217"
      ],
      "execution_count": null,
      "outputs": [
        {
          "output_type": "execute_result",
          "data": {
            "text/plain": [
              "0          True\n",
              "1         False\n",
              "2         False\n",
              "3         False\n",
              "4         False\n",
              "          ...  \n",
              "138841    False\n",
              "138842    False\n",
              "138843    False\n",
              "138844    False\n",
              "138845    False\n",
              "Name: lower_bound_ip_address, Length: 138846, dtype: bool"
            ]
          },
          "metadata": {
            "tags": []
          },
          "execution_count": 12
        }
      ]
    },
    {
      "cell_type": "code",
      "metadata": {
        "id": "cquPXZfH9TGh",
        "colab_type": "code",
        "colab": {
          "base_uri": "https://localhost:8080/",
          "height": 226
        },
        "outputId": "eafb7657-4223-4c84-cc91-f05505acb298"
      },
      "source": [
        "ipToCountry['upper_bound_ip_address'] >= 16777217"
      ],
      "execution_count": null,
      "outputs": [
        {
          "output_type": "execute_result",
          "data": {
            "text/plain": [
              "0         True\n",
              "1         True\n",
              "2         True\n",
              "3         True\n",
              "4         True\n",
              "          ... \n",
              "138841    True\n",
              "138842    True\n",
              "138843    True\n",
              "138844    True\n",
              "138845    True\n",
              "Name: upper_bound_ip_address, Length: 138846, dtype: bool"
            ]
          },
          "metadata": {
            "tags": []
          },
          "execution_count": 13
        }
      ]
    },
    {
      "cell_type": "code",
      "metadata": {
        "id": "9Ec_OZRA9pMK",
        "colab_type": "code",
        "colab": {
          "base_uri": "https://localhost:8080/",
          "height": 77
        },
        "outputId": "550cc58c-8698-41cb-cd2f-a92a2901017b"
      },
      "source": [
        "ipToCountry[(ipToCountry['upper_bound_ip_address'] >= 16777217) & (ipToCountry['lower_bound_ip_address'] <= 16777217)]"
      ],
      "execution_count": null,
      "outputs": [
        {
          "output_type": "execute_result",
          "data": {
            "text/html": [
              "<div>\n",
              "<style scoped>\n",
              "    .dataframe tbody tr th:only-of-type {\n",
              "        vertical-align: middle;\n",
              "    }\n",
              "\n",
              "    .dataframe tbody tr th {\n",
              "        vertical-align: top;\n",
              "    }\n",
              "\n",
              "    .dataframe thead th {\n",
              "        text-align: right;\n",
              "    }\n",
              "</style>\n",
              "<table border=\"1\" class=\"dataframe\">\n",
              "  <thead>\n",
              "    <tr style=\"text-align: right;\">\n",
              "      <th></th>\n",
              "      <th>lower_bound_ip_address</th>\n",
              "      <th>upper_bound_ip_address</th>\n",
              "      <th>country</th>\n",
              "    </tr>\n",
              "  </thead>\n",
              "  <tbody>\n",
              "    <tr>\n",
              "      <th>0</th>\n",
              "      <td>16777216.0</td>\n",
              "      <td>16777471</td>\n",
              "      <td>Australia</td>\n",
              "    </tr>\n",
              "  </tbody>\n",
              "</table>\n",
              "</div>"
            ],
            "text/plain": [
              "   lower_bound_ip_address  upper_bound_ip_address    country\n",
              "0              16777216.0                16777471  Australia"
            ]
          },
          "metadata": {
            "tags": []
          },
          "execution_count": 14
        }
      ]
    },
    {
      "cell_type": "code",
      "metadata": {
        "id": "nWLSgWkY9ps5",
        "colab_type": "code",
        "colab": {
          "base_uri": "https://localhost:8080/",
          "height": 226
        },
        "outputId": "fa689bdb-0626-4d8c-f6e1-333e9eec95c9"
      },
      "source": [
        "(ipToCountry['upper_bound_ip_address'] >= 16777217) & (ipToCountry['lower_bound_ip_address'] <= 16777217)"
      ],
      "execution_count": null,
      "outputs": [
        {
          "output_type": "execute_result",
          "data": {
            "text/plain": [
              "0          True\n",
              "1         False\n",
              "2         False\n",
              "3         False\n",
              "4         False\n",
              "          ...  \n",
              "138841    False\n",
              "138842    False\n",
              "138843    False\n",
              "138844    False\n",
              "138845    False\n",
              "Length: 138846, dtype: bool"
            ]
          },
          "metadata": {
            "tags": []
          },
          "execution_count": 15
        }
      ]
    },
    {
      "cell_type": "code",
      "metadata": {
        "id": "QS8Pyu4M9sDa",
        "colab_type": "code",
        "colab": {
          "base_uri": "https://localhost:8080/",
          "height": 34
        },
        "outputId": "c7084d9b-75ce-416d-c1c2-8f2feb9d85a3"
      },
      "source": [
        "\n",
        "start = time.time()\n",
        "\n",
        "countries = []  #define an empty list named\"countries\" \n",
        "for i in range(len(fraud)):\n",
        "    #select \"ip_address\" feature value of the ith row from \"fraud_data\"\n",
        "    ip_address = fraud.loc[i, 'ip_address']#number   \n",
        "    #below [] is list of T/F, tmp is a df of shape n * 3, where n is 1 if found a match or 0 if no match\n",
        "    tmp = ipToCountry[(ipToCountry['lower_bound_ip_address'] <= ip_address) &\n",
        "                    (ipToCountry['upper_bound_ip_address'] >= ip_address)]\n",
        "    if len(tmp) == 1:#found match  #len: number of rows for dataset \n",
        "    #append \"country\" to countries \n",
        "        countries.append(tmp['country'].values[0])\n",
        "    else:#no match\n",
        "        countries.append('NA')\n",
        "        \n",
        "fraud['country'] = countries #fill in the \"country\" column with value in \"countries\"\n",
        "runtime = time.time() - start \n",
        "\n",
        "print(\"Lookup took\", runtime, \"seconds.\")\n"
      ],
      "execution_count": null,
      "outputs": [
        {
          "output_type": "stream",
          "text": [
            "Lookup took 193.75121426582336 seconds.\n"
          ],
          "name": "stdout"
        }
      ]
    },
    {
      "cell_type": "code",
      "metadata": {
        "id": "paf2cUs8_AO3",
        "colab_type": "code",
        "colab": {
          "base_uri": "https://localhost:8080/",
          "height": 52
        },
        "outputId": "3766e920-36b2-40c7-b0ac-4b5c112eb8fc"
      },
      "source": [
        "ip_address = fraud.loc[6, 'ip_address']\n",
        "tmp = ipToCountry[(ipToCountry['lower_bound_ip_address'] <= ip_address) &\n",
        "                    (ipToCountry['upper_bound_ip_address'] >= ip_address)]\n",
        "print(tmp)"
      ],
      "execution_count": null,
      "outputs": [
        {
          "output_type": "stream",
          "text": [
            "       lower_bound_ip_address  upper_bound_ip_address        country\n",
            "28203            1.686110e+09              1694498815  United States\n"
          ],
          "name": "stdout"
        }
      ]
    },
    {
      "cell_type": "markdown",
      "metadata": {
        "id": "_NWpdnqJ_IYq",
        "colab_type": "text"
      },
      "source": [
        "Feature Engineering"
      ]
    },
    {
      "cell_type": "code",
      "metadata": {
        "id": "J7qNLZ3m_CZV",
        "colab_type": "code",
        "colab": {
          "base_uri": "https://localhost:8080/",
          "height": 52
        },
        "outputId": "1b277c34-2836-479a-8e37-9a0925d6955b"
      },
      "source": [
        "#as long as the numbers are the same, there's no dup\n",
        "print(fraud.user_id.nunique())#138376\n",
        "print(len(fraud.index))#138376\n",
        "#all of the user_id has only the first 1 transaction, no way to do time based aggregates, \n",
        "#e.g. amount/counts in past 1 day for this user"
      ],
      "execution_count": null,
      "outputs": [
        {
          "output_type": "stream",
          "text": [
            "138376\n",
            "138376\n"
          ],
          "name": "stdout"
        }
      ]
    },
    {
      "cell_type": "code",
      "metadata": {
        "id": "Qg6FkhZZ_Cfe",
        "colab_type": "code",
        "colab": {
          "base_uri": "https://localhost:8080/",
          "height": 404
        },
        "outputId": "a80591d1-c44b-469d-86b8-b9d16f078808"
      },
      "source": [
        "fraud"
      ],
      "execution_count": null,
      "outputs": [
        {
          "output_type": "execute_result",
          "data": {
            "text/html": [
              "<div>\n",
              "<style scoped>\n",
              "    .dataframe tbody tr th:only-of-type {\n",
              "        vertical-align: middle;\n",
              "    }\n",
              "\n",
              "    .dataframe tbody tr th {\n",
              "        vertical-align: top;\n",
              "    }\n",
              "\n",
              "    .dataframe thead th {\n",
              "        text-align: right;\n",
              "    }\n",
              "</style>\n",
              "<table border=\"1\" class=\"dataframe\">\n",
              "  <thead>\n",
              "    <tr style=\"text-align: right;\">\n",
              "      <th></th>\n",
              "      <th>user_id</th>\n",
              "      <th>signup_time</th>\n",
              "      <th>purchase_time</th>\n",
              "      <th>purchase_value</th>\n",
              "      <th>device_id</th>\n",
              "      <th>source</th>\n",
              "      <th>browser</th>\n",
              "      <th>sex</th>\n",
              "      <th>age</th>\n",
              "      <th>ip_address</th>\n",
              "      <th>class</th>\n",
              "      <th>country</th>\n",
              "    </tr>\n",
              "  </thead>\n",
              "  <tbody>\n",
              "    <tr>\n",
              "      <th>0</th>\n",
              "      <td>22058</td>\n",
              "      <td>2015-02-24 22:55:49</td>\n",
              "      <td>2015-04-18 02:47:11</td>\n",
              "      <td>34</td>\n",
              "      <td>QVPSPJUOCKZAR</td>\n",
              "      <td>SEO</td>\n",
              "      <td>Chrome</td>\n",
              "      <td>M</td>\n",
              "      <td>39</td>\n",
              "      <td>7.327584e+08</td>\n",
              "      <td>0</td>\n",
              "      <td>Japan</td>\n",
              "    </tr>\n",
              "    <tr>\n",
              "      <th>1</th>\n",
              "      <td>333320</td>\n",
              "      <td>2015-06-07 20:39:50</td>\n",
              "      <td>2015-06-08 01:38:54</td>\n",
              "      <td>16</td>\n",
              "      <td>EOGFQPIZPYXFZ</td>\n",
              "      <td>Ads</td>\n",
              "      <td>Chrome</td>\n",
              "      <td>F</td>\n",
              "      <td>53</td>\n",
              "      <td>3.503114e+08</td>\n",
              "      <td>0</td>\n",
              "      <td>United States</td>\n",
              "    </tr>\n",
              "    <tr>\n",
              "      <th>2</th>\n",
              "      <td>150084</td>\n",
              "      <td>2015-04-28 21:13:25</td>\n",
              "      <td>2015-05-04 13:54:50</td>\n",
              "      <td>44</td>\n",
              "      <td>ATGTXKYKUDUQN</td>\n",
              "      <td>SEO</td>\n",
              "      <td>Safari</td>\n",
              "      <td>M</td>\n",
              "      <td>41</td>\n",
              "      <td>3.840542e+09</td>\n",
              "      <td>0</td>\n",
              "      <td>NA</td>\n",
              "    </tr>\n",
              "    <tr>\n",
              "      <th>3</th>\n",
              "      <td>221365</td>\n",
              "      <td>2015-07-21 07:09:52</td>\n",
              "      <td>2015-09-09 18:40:53</td>\n",
              "      <td>39</td>\n",
              "      <td>NAUITBZFJKHWW</td>\n",
              "      <td>Ads</td>\n",
              "      <td>Safari</td>\n",
              "      <td>M</td>\n",
              "      <td>45</td>\n",
              "      <td>4.155831e+08</td>\n",
              "      <td>0</td>\n",
              "      <td>United States</td>\n",
              "    </tr>\n",
              "    <tr>\n",
              "      <th>4</th>\n",
              "      <td>159135</td>\n",
              "      <td>2015-05-21 06:03:03</td>\n",
              "      <td>2015-07-09 08:05:14</td>\n",
              "      <td>42</td>\n",
              "      <td>ALEYXFXINSXLZ</td>\n",
              "      <td>Ads</td>\n",
              "      <td>Chrome</td>\n",
              "      <td>M</td>\n",
              "      <td>18</td>\n",
              "      <td>2.809315e+09</td>\n",
              "      <td>0</td>\n",
              "      <td>Canada</td>\n",
              "    </tr>\n",
              "    <tr>\n",
              "      <th>...</th>\n",
              "      <td>...</td>\n",
              "      <td>...</td>\n",
              "      <td>...</td>\n",
              "      <td>...</td>\n",
              "      <td>...</td>\n",
              "      <td>...</td>\n",
              "      <td>...</td>\n",
              "      <td>...</td>\n",
              "      <td>...</td>\n",
              "      <td>...</td>\n",
              "      <td>...</td>\n",
              "      <td>...</td>\n",
              "    </tr>\n",
              "    <tr>\n",
              "      <th>138371</th>\n",
              "      <td>185619</td>\n",
              "      <td>2015-01-09 02:25:03</td>\n",
              "      <td>2015-01-09 02:25:04</td>\n",
              "      <td>30</td>\n",
              "      <td>AVOVPRJNLOLWD</td>\n",
              "      <td>SEO</td>\n",
              "      <td>IE</td>\n",
              "      <td>M</td>\n",
              "      <td>35</td>\n",
              "      <td>8.031690e+08</td>\n",
              "      <td>1</td>\n",
              "      <td>Canada</td>\n",
              "    </tr>\n",
              "    <tr>\n",
              "      <th>138372</th>\n",
              "      <td>144031</td>\n",
              "      <td>2015-07-07 15:29:10</td>\n",
              "      <td>2015-08-20 01:48:50</td>\n",
              "      <td>67</td>\n",
              "      <td>YLHYGZVPCLHLH</td>\n",
              "      <td>Ads</td>\n",
              "      <td>FireFox</td>\n",
              "      <td>M</td>\n",
              "      <td>23</td>\n",
              "      <td>3.572177e+09</td>\n",
              "      <td>1</td>\n",
              "      <td>Israel</td>\n",
              "    </tr>\n",
              "    <tr>\n",
              "      <th>138373</th>\n",
              "      <td>58899</td>\n",
              "      <td>2015-04-24 15:28:22</td>\n",
              "      <td>2015-07-16 01:53:25</td>\n",
              "      <td>54</td>\n",
              "      <td>ORSHWNJVUGJFE</td>\n",
              "      <td>Direct</td>\n",
              "      <td>Safari</td>\n",
              "      <td>M</td>\n",
              "      <td>23</td>\n",
              "      <td>1.374693e+08</td>\n",
              "      <td>1</td>\n",
              "      <td>United States</td>\n",
              "    </tr>\n",
              "    <tr>\n",
              "      <th>138374</th>\n",
              "      <td>120669</td>\n",
              "      <td>2015-04-14 13:53:32</td>\n",
              "      <td>2015-05-18 23:52:34</td>\n",
              "      <td>31</td>\n",
              "      <td>HNQOJFPCMBRQU</td>\n",
              "      <td>SEO</td>\n",
              "      <td>Chrome</td>\n",
              "      <td>M</td>\n",
              "      <td>31</td>\n",
              "      <td>7.087370e+08</td>\n",
              "      <td>1</td>\n",
              "      <td>China</td>\n",
              "    </tr>\n",
              "    <tr>\n",
              "      <th>138375</th>\n",
              "      <td>157893</td>\n",
              "      <td>2015-02-21 12:47:09</td>\n",
              "      <td>2015-05-18 02:59:16</td>\n",
              "      <td>26</td>\n",
              "      <td>YFUKEEIVTABSH</td>\n",
              "      <td>Ads</td>\n",
              "      <td>Chrome</td>\n",
              "      <td>F</td>\n",
              "      <td>33</td>\n",
              "      <td>1.491168e+09</td>\n",
              "      <td>1</td>\n",
              "      <td>Turkey</td>\n",
              "    </tr>\n",
              "  </tbody>\n",
              "</table>\n",
              "<p>138376 rows × 12 columns</p>\n",
              "</div>"
            ],
            "text/plain": [
              "        user_id          signup_time  ... class        country\n",
              "0         22058  2015-02-24 22:55:49  ...     0          Japan\n",
              "1        333320  2015-06-07 20:39:50  ...     0  United States\n",
              "2        150084  2015-04-28 21:13:25  ...     0             NA\n",
              "3        221365  2015-07-21 07:09:52  ...     0  United States\n",
              "4        159135  2015-05-21 06:03:03  ...     0         Canada\n",
              "...         ...                  ...  ...   ...            ...\n",
              "138371   185619  2015-01-09 02:25:03  ...     1         Canada\n",
              "138372   144031  2015-07-07 15:29:10  ...     1         Israel\n",
              "138373    58899  2015-04-24 15:28:22  ...     1  United States\n",
              "138374   120669  2015-04-14 13:53:32  ...     1          China\n",
              "138375   157893  2015-02-21 12:47:09  ...     1         Turkey\n",
              "\n",
              "[138376 rows x 12 columns]"
            ]
          },
          "metadata": {
            "tags": []
          },
          "execution_count": 19
        }
      ]
    },
    {
      "cell_type": "code",
      "metadata": {
        "id": "uovuQoH3_ClO",
        "colab_type": "code",
        "colab": {}
      },
      "source": [
        "#time related features: can be done before split, as they has no interaction between other rows, solely based on other columns of the same row\n",
        "fraud['interval_after_signup'] = (pd.to_datetime(fraud['purchase_time']) - pd.to_datetime(fraud['signup_time'])).dt.total_seconds()\n",
        "\n",
        "fraud['signup_days_of_year'] = pd.DatetimeIndex(fraud['signup_time']).dayofyear\n",
        "\n",
        "#bed time operation\n",
        "fraud['signup_seconds_of_day'] = pd.DatetimeIndex(fraud['signup_time']).second + 60 * pd.DatetimeIndex(\n",
        "    fraud['signup_time']).minute + 3600 * pd.DatetimeIndex(fraud['signup_time']).hour\n",
        "\n",
        "fraud['purchase_days_of_year'] = pd.DatetimeIndex(fraud['purchase_time']).dayofyear\n",
        "fraud['purchase_seconds_of_day'] = pd.DatetimeIndex(fraud['purchase_time']).second + 60 * pd.DatetimeIndex(fraud['purchase_time']).minute + 3600 * pd.DatetimeIndex(fraud['purchase_time']).hour\n",
        "\n",
        "fraud = fraud.drop(['user_id','signup_time','purchase_time'], axis=1)"
      ],
      "execution_count": null,
      "outputs": []
    },
    {
      "cell_type": "code",
      "metadata": {
        "id": "TNAEvIP4_Cto",
        "colab_type": "code",
        "colab": {
          "base_uri": "https://localhost:8080/",
          "height": 258
        },
        "outputId": "c9b59361-d291-4cbc-de85-3c4868b6d83d"
      },
      "source": [
        "fraud.head()"
      ],
      "execution_count": null,
      "outputs": [
        {
          "output_type": "execute_result",
          "data": {
            "text/html": [
              "<div>\n",
              "<style scoped>\n",
              "    .dataframe tbody tr th:only-of-type {\n",
              "        vertical-align: middle;\n",
              "    }\n",
              "\n",
              "    .dataframe tbody tr th {\n",
              "        vertical-align: top;\n",
              "    }\n",
              "\n",
              "    .dataframe thead th {\n",
              "        text-align: right;\n",
              "    }\n",
              "</style>\n",
              "<table border=\"1\" class=\"dataframe\">\n",
              "  <thead>\n",
              "    <tr style=\"text-align: right;\">\n",
              "      <th></th>\n",
              "      <th>purchase_value</th>\n",
              "      <th>device_id</th>\n",
              "      <th>source</th>\n",
              "      <th>browser</th>\n",
              "      <th>sex</th>\n",
              "      <th>age</th>\n",
              "      <th>ip_address</th>\n",
              "      <th>class</th>\n",
              "      <th>country</th>\n",
              "      <th>interval_after_signup</th>\n",
              "      <th>signup_days_of_year</th>\n",
              "      <th>signup_seconds_of_day</th>\n",
              "      <th>purchase_days_of_year</th>\n",
              "      <th>purchase_seconds_of_day</th>\n",
              "    </tr>\n",
              "  </thead>\n",
              "  <tbody>\n",
              "    <tr>\n",
              "      <th>0</th>\n",
              "      <td>34</td>\n",
              "      <td>QVPSPJUOCKZAR</td>\n",
              "      <td>SEO</td>\n",
              "      <td>Chrome</td>\n",
              "      <td>M</td>\n",
              "      <td>39</td>\n",
              "      <td>7.327584e+08</td>\n",
              "      <td>0</td>\n",
              "      <td>Japan</td>\n",
              "      <td>4506682.0</td>\n",
              "      <td>55</td>\n",
              "      <td>82549</td>\n",
              "      <td>108</td>\n",
              "      <td>10031</td>\n",
              "    </tr>\n",
              "    <tr>\n",
              "      <th>1</th>\n",
              "      <td>16</td>\n",
              "      <td>EOGFQPIZPYXFZ</td>\n",
              "      <td>Ads</td>\n",
              "      <td>Chrome</td>\n",
              "      <td>F</td>\n",
              "      <td>53</td>\n",
              "      <td>3.503114e+08</td>\n",
              "      <td>0</td>\n",
              "      <td>United States</td>\n",
              "      <td>17944.0</td>\n",
              "      <td>158</td>\n",
              "      <td>74390</td>\n",
              "      <td>159</td>\n",
              "      <td>5934</td>\n",
              "    </tr>\n",
              "    <tr>\n",
              "      <th>2</th>\n",
              "      <td>44</td>\n",
              "      <td>ATGTXKYKUDUQN</td>\n",
              "      <td>SEO</td>\n",
              "      <td>Safari</td>\n",
              "      <td>M</td>\n",
              "      <td>41</td>\n",
              "      <td>3.840542e+09</td>\n",
              "      <td>0</td>\n",
              "      <td>NA</td>\n",
              "      <td>492085.0</td>\n",
              "      <td>118</td>\n",
              "      <td>76405</td>\n",
              "      <td>124</td>\n",
              "      <td>50090</td>\n",
              "    </tr>\n",
              "    <tr>\n",
              "      <th>3</th>\n",
              "      <td>39</td>\n",
              "      <td>NAUITBZFJKHWW</td>\n",
              "      <td>Ads</td>\n",
              "      <td>Safari</td>\n",
              "      <td>M</td>\n",
              "      <td>45</td>\n",
              "      <td>4.155831e+08</td>\n",
              "      <td>0</td>\n",
              "      <td>United States</td>\n",
              "      <td>4361461.0</td>\n",
              "      <td>202</td>\n",
              "      <td>25792</td>\n",
              "      <td>252</td>\n",
              "      <td>67253</td>\n",
              "    </tr>\n",
              "    <tr>\n",
              "      <th>4</th>\n",
              "      <td>42</td>\n",
              "      <td>ALEYXFXINSXLZ</td>\n",
              "      <td>Ads</td>\n",
              "      <td>Chrome</td>\n",
              "      <td>M</td>\n",
              "      <td>18</td>\n",
              "      <td>2.809315e+09</td>\n",
              "      <td>0</td>\n",
              "      <td>Canada</td>\n",
              "      <td>4240931.0</td>\n",
              "      <td>141</td>\n",
              "      <td>21783</td>\n",
              "      <td>190</td>\n",
              "      <td>29114</td>\n",
              "    </tr>\n",
              "  </tbody>\n",
              "</table>\n",
              "</div>"
            ],
            "text/plain": [
              "   purchase_value  ... purchase_seconds_of_day\n",
              "0              34  ...                   10031\n",
              "1              16  ...                    5934\n",
              "2              44  ...                   50090\n",
              "3              39  ...                   67253\n",
              "4              42  ...                   29114\n",
              "\n",
              "[5 rows x 14 columns]"
            ]
          },
          "metadata": {
            "tags": []
          },
          "execution_count": 29
        }
      ]
    },
    {
      "cell_type": "code",
      "metadata": {
        "id": "1VKENz0w_C1P",
        "colab_type": "code",
        "colab": {
          "base_uri": "https://localhost:8080/",
          "height": 85
        },
        "outputId": "84bd7576-5832-4bdc-be06-9818b4ca24f0"
      },
      "source": [
        "print(fraud.source.value_counts())"
      ],
      "execution_count": null,
      "outputs": [
        {
          "output_type": "stream",
          "text": [
            "SEO       55766\n",
            "Ads       54913\n",
            "Direct    27697\n",
            "Name: source, dtype: int64\n"
          ],
          "name": "stdout"
        }
      ]
    },
    {
      "cell_type": "markdown",
      "metadata": {
        "id": "3BPwni97C0w1",
        "colab_type": "text"
      },
      "source": [
        "Split Train/ Testing dataset\n"
      ]
    },
    {
      "cell_type": "code",
      "metadata": {
        "id": "jn2wbcK9_Cou",
        "colab_type": "code",
        "colab": {
          "base_uri": "https://localhost:8080/",
          "height": 52
        },
        "outputId": "358022d8-06c2-441b-af90-f651769260db"
      },
      "source": [
        "y = fraud['class']\n",
        "X = fraud.drop(['class'], axis=1) #axis=1 drop from column; axis = 0 drop from row\n",
        "\n",
        "#split into train/test\n",
        "X_train, X_test, y_train, y_test = train_test_split(X, y, test_size=0.2, random_state=0) #train_test_split function\n",
        "print(\"X_train.shape:\", X_train.shape)\n",
        "print(\"y_train.shape:\", y_train.shape)"
      ],
      "execution_count": null,
      "outputs": [
        {
          "output_type": "stream",
          "text": [
            "X_train.shape: (110700, 13)\n",
            "y_train.shape: (110700,)\n"
          ],
          "name": "stdout"
        }
      ]
    },
    {
      "cell_type": "code",
      "metadata": {
        "id": "eaIP6vCm_Cd0",
        "colab_type": "code",
        "colab": {
          "base_uri": "https://localhost:8080/",
          "height": 221
        },
        "outputId": "2940a1f5-1355-44a5-d827-f69e89e4b53a"
      },
      "source": [
        "X_train['country'].value_counts(ascending=True)"
      ],
      "execution_count": null,
      "outputs": [
        {
          "output_type": "execute_result",
          "data": {
            "text/plain": [
              "San Marino            1\n",
              "Madagascar            1\n",
              "Benin                 1\n",
              "Bermuda               1\n",
              "Fiji                  1\n",
              "                  ...  \n",
              "United Kingdom     3253\n",
              "Japan              5251\n",
              "China              8876\n",
              "NA                16275\n",
              "United States     42348\n",
              "Name: country, Length: 177, dtype: int64"
            ]
          },
          "metadata": {
            "tags": []
          },
          "execution_count": 32
        }
      ]
    },
    {
      "cell_type": "code",
      "metadata": {
        "id": "XfCtwaZDDRma",
        "colab_type": "code",
        "colab": {
          "base_uri": "https://localhost:8080/",
          "height": 275
        },
        "outputId": "7d518711-f283-4a31-fa16-9ef11b1275d0"
      },
      "source": [
        "X_train.head()"
      ],
      "execution_count": null,
      "outputs": [
        {
          "output_type": "execute_result",
          "data": {
            "text/html": [
              "<div>\n",
              "<style scoped>\n",
              "    .dataframe tbody tr th:only-of-type {\n",
              "        vertical-align: middle;\n",
              "    }\n",
              "\n",
              "    .dataframe tbody tr th {\n",
              "        vertical-align: top;\n",
              "    }\n",
              "\n",
              "    .dataframe thead th {\n",
              "        text-align: right;\n",
              "    }\n",
              "</style>\n",
              "<table border=\"1\" class=\"dataframe\">\n",
              "  <thead>\n",
              "    <tr style=\"text-align: right;\">\n",
              "      <th></th>\n",
              "      <th>purchase_value</th>\n",
              "      <th>device_id</th>\n",
              "      <th>source</th>\n",
              "      <th>browser</th>\n",
              "      <th>sex</th>\n",
              "      <th>age</th>\n",
              "      <th>ip_address</th>\n",
              "      <th>country</th>\n",
              "      <th>interval_after_signup</th>\n",
              "      <th>signup_days_of_year</th>\n",
              "      <th>signup_seconds_of_day</th>\n",
              "      <th>purchase_days_of_year</th>\n",
              "      <th>purchase_seconds_of_day</th>\n",
              "    </tr>\n",
              "  </thead>\n",
              "  <tbody>\n",
              "    <tr>\n",
              "      <th>29343</th>\n",
              "      <td>12</td>\n",
              "      <td>OULPAZAFRFPXP</td>\n",
              "      <td>Ads</td>\n",
              "      <td>Chrome</td>\n",
              "      <td>M</td>\n",
              "      <td>42</td>\n",
              "      <td>3.690922e+09</td>\n",
              "      <td>Korea Republic of</td>\n",
              "      <td>3499664.0</td>\n",
              "      <td>183</td>\n",
              "      <td>67384</td>\n",
              "      <td>224</td>\n",
              "      <td>24648</td>\n",
              "    </tr>\n",
              "    <tr>\n",
              "      <th>12190</th>\n",
              "      <td>10</td>\n",
              "      <td>AIIWMFEYQQIEB</td>\n",
              "      <td>Ads</td>\n",
              "      <td>Opera</td>\n",
              "      <td>M</td>\n",
              "      <td>29</td>\n",
              "      <td>1.686759e+09</td>\n",
              "      <td>United States</td>\n",
              "      <td>6766039.0</td>\n",
              "      <td>5</td>\n",
              "      <td>78146</td>\n",
              "      <td>84</td>\n",
              "      <td>18585</td>\n",
              "    </tr>\n",
              "    <tr>\n",
              "      <th>19388</th>\n",
              "      <td>34</td>\n",
              "      <td>VUVETBUPCIWJE</td>\n",
              "      <td>Direct</td>\n",
              "      <td>Chrome</td>\n",
              "      <td>M</td>\n",
              "      <td>53</td>\n",
              "      <td>4.138429e+09</td>\n",
              "      <td>NA</td>\n",
              "      <td>5870515.0</td>\n",
              "      <td>197</td>\n",
              "      <td>81354</td>\n",
              "      <td>265</td>\n",
              "      <td>76669</td>\n",
              "    </tr>\n",
              "    <tr>\n",
              "      <th>89104</th>\n",
              "      <td>48</td>\n",
              "      <td>QCFULAJOYKFUU</td>\n",
              "      <td>Ads</td>\n",
              "      <td>Chrome</td>\n",
              "      <td>M</td>\n",
              "      <td>29</td>\n",
              "      <td>9.617337e+07</td>\n",
              "      <td>France</td>\n",
              "      <td>2145618.0</td>\n",
              "      <td>160</td>\n",
              "      <td>30920</td>\n",
              "      <td>185</td>\n",
              "      <td>16538</td>\n",
              "    </tr>\n",
              "    <tr>\n",
              "      <th>82082</th>\n",
              "      <td>44</td>\n",
              "      <td>IHRWLMIJMEEEU</td>\n",
              "      <td>Ads</td>\n",
              "      <td>FireFox</td>\n",
              "      <td>M</td>\n",
              "      <td>24</td>\n",
              "      <td>1.936025e+09</td>\n",
              "      <td>China</td>\n",
              "      <td>7079059.0</td>\n",
              "      <td>111</td>\n",
              "      <td>71897</td>\n",
              "      <td>193</td>\n",
              "      <td>66156</td>\n",
              "    </tr>\n",
              "  </tbody>\n",
              "</table>\n",
              "</div>"
            ],
            "text/plain": [
              "       purchase_value  ... purchase_seconds_of_day\n",
              "29343              12  ...                   24648\n",
              "12190              10  ...                   18585\n",
              "19388              34  ...                   76669\n",
              "89104              48  ...                   16538\n",
              "82082              44  ...                   66156\n",
              "\n",
              "[5 rows x 13 columns]"
            ]
          },
          "metadata": {
            "tags": []
          },
          "execution_count": 33
        }
      ]
    },
    {
      "cell_type": "markdown",
      "metadata": {
        "id": "2pePFkjDDVDn",
        "colab_type": "text"
      },
      "source": [
        "Convert categorical features with high cadinality to numericals"
      ]
    },
    {
      "cell_type": "code",
      "metadata": {
        "id": "9vXfawqpDR_m",
        "colab_type": "code",
        "colab": {}
      },
      "source": [
        "#converting needs to be done after split\n",
        "X_train = pd.get_dummies(X_train, columns=['source', 'browser'])#need to drop ['source', 'browser']? no, auto dropped by get_dummies \n",
        "X_train['sex'] = (X_train.sex == 'M').astype(int)\n",
        "\n",
        "# the more a device is shared, the more suspicious\n",
        "X_train_device_id_mapping = X_train.device_id.value_counts(dropna=False) #dataset.feature.function\n",
        "X_train['n_dev_shared'] = X_train.device_id.map(X_train_device_id_mapping)# number of times device_id occurred in train data\n",
        "#use\"X_train_device_id_mapping\"to replace device.id\n",
        "\n",
        "# the more a ip is shared, the more suspicious\n",
        "X_train_ip_address_mapping = X_train.ip_address.value_counts(dropna=False)\n",
        "X_train['n_ip_shared'] = X_train.ip_address.map(X_train_ip_address_mapping)\n",
        "\n",
        "# the less visit from a country, the more suspicious\n",
        "X_train_country_mapping = X_train.country.value_counts(dropna=False)\n",
        "X_train['n_country_shared'] = X_train.country.map(X_train_country_mapping)#lots of NAs in country column, #without dropna=False will produce nan in this col\n",
        "\n",
        "\n",
        "X_train = X_train.drop(['device_id','ip_address','country'], axis=1)"
      ],
      "execution_count": null,
      "outputs": []
    },
    {
      "cell_type": "code",
      "metadata": {
        "id": "t-MO8Q5FDc9W",
        "colab_type": "code",
        "colab": {}
      },
      "source": [
        "a = fraud.device_id.value_counts(dropna=False)"
      ],
      "execution_count": null,
      "outputs": []
    },
    {
      "cell_type": "code",
      "metadata": {
        "id": "l0XUXToWDgS4",
        "colab_type": "code",
        "colab": {
          "base_uri": "https://localhost:8080/",
          "height": 226
        },
        "outputId": "fcc47e00-e606-4e56-da7e-c2424653e86a"
      },
      "source": [
        "fraud.device_id.map(a)"
      ],
      "execution_count": null,
      "outputs": [
        {
          "output_type": "execute_result",
          "data": {
            "text/plain": [
              "0         1\n",
              "1         1\n",
              "2         1\n",
              "3         1\n",
              "4         1\n",
              "         ..\n",
              "138371    3\n",
              "138372    1\n",
              "138373    1\n",
              "138374    1\n",
              "138375    1\n",
              "Name: device_id, Length: 138376, dtype: int64"
            ]
          },
          "metadata": {
            "tags": []
          },
          "execution_count": 24
        }
      ]
    },
    {
      "cell_type": "markdown",
      "metadata": {
        "id": "KE0IsNS5DpXd",
        "colab_type": "text"
      },
      "source": [
        "get_dummies can be used to do one hot encoding"
      ]
    },
    {
      "cell_type": "code",
      "metadata": {
        "id": "aNUW3mlXDjSk",
        "colab_type": "code",
        "colab": {}
      },
      "source": [
        "X_test = pd.get_dummies(X_test, columns=['source', 'browser'])\n",
        "X_test['sex'] = (X_test.sex == 'M').astype(int)\n",
        "\n",
        "# the more a device is shared, the more suspicious\n",
        "X_test['n_dev_shared'] = X_test.device_id.map(X_test.device_id.value_counts(dropna=False))\n",
        "\n",
        "# the more a ip is shared, the more suspicious\n",
        "X_test['n_ip_shared'] = X_test.ip_address.map(X_test.ip_address.value_counts(dropna=False))\n",
        "\n",
        "# the less visit from a country, the more suspicious\n",
        "X_test['n_country_shared'] = X_test.country.map(X_test.country.value_counts(dropna=False))\n",
        "\n",
        "X_test = X_test.drop(['device_id','ip_address','country'], axis=1)"
      ],
      "execution_count": null,
      "outputs": []
    },
    {
      "cell_type": "code",
      "metadata": {
        "id": "Co18iTIeDxg_",
        "colab_type": "code",
        "colab": {
          "base_uri": "https://localhost:8080/",
          "height": 224
        },
        "outputId": "973813ad-6e4f-407a-aa41-9c51190c8086"
      },
      "source": [
        "X_train.head()"
      ],
      "execution_count": null,
      "outputs": [
        {
          "output_type": "execute_result",
          "data": {
            "text/html": [
              "<div>\n",
              "<style scoped>\n",
              "    .dataframe tbody tr th:only-of-type {\n",
              "        vertical-align: middle;\n",
              "    }\n",
              "\n",
              "    .dataframe tbody tr th {\n",
              "        vertical-align: top;\n",
              "    }\n",
              "\n",
              "    .dataframe thead th {\n",
              "        text-align: right;\n",
              "    }\n",
              "</style>\n",
              "<table border=\"1\" class=\"dataframe\">\n",
              "  <thead>\n",
              "    <tr style=\"text-align: right;\">\n",
              "      <th></th>\n",
              "      <th>purchase_value</th>\n",
              "      <th>sex</th>\n",
              "      <th>age</th>\n",
              "      <th>interval_after_signup</th>\n",
              "      <th>signup_days_of_year</th>\n",
              "      <th>signup_seconds_of_day</th>\n",
              "      <th>purchase_days_of_year</th>\n",
              "      <th>purchase_seconds_of_day</th>\n",
              "      <th>source_Ads</th>\n",
              "      <th>source_Direct</th>\n",
              "      <th>source_SEO</th>\n",
              "      <th>browser_Chrome</th>\n",
              "      <th>browser_FireFox</th>\n",
              "      <th>browser_IE</th>\n",
              "      <th>browser_Opera</th>\n",
              "      <th>browser_Safari</th>\n",
              "      <th>n_dev_shared</th>\n",
              "      <th>n_ip_shared</th>\n",
              "      <th>n_country_shared</th>\n",
              "    </tr>\n",
              "  </thead>\n",
              "  <tbody>\n",
              "    <tr>\n",
              "      <th>29343</th>\n",
              "      <td>12</td>\n",
              "      <td>1</td>\n",
              "      <td>42</td>\n",
              "      <td>3499664.0</td>\n",
              "      <td>183</td>\n",
              "      <td>67384</td>\n",
              "      <td>224</td>\n",
              "      <td>24648</td>\n",
              "      <td>1</td>\n",
              "      <td>0</td>\n",
              "      <td>0</td>\n",
              "      <td>1</td>\n",
              "      <td>0</td>\n",
              "      <td>0</td>\n",
              "      <td>0</td>\n",
              "      <td>0</td>\n",
              "      <td>1</td>\n",
              "      <td>1</td>\n",
              "      <td>3075</td>\n",
              "    </tr>\n",
              "    <tr>\n",
              "      <th>12190</th>\n",
              "      <td>10</td>\n",
              "      <td>1</td>\n",
              "      <td>29</td>\n",
              "      <td>6766039.0</td>\n",
              "      <td>5</td>\n",
              "      <td>78146</td>\n",
              "      <td>84</td>\n",
              "      <td>18585</td>\n",
              "      <td>1</td>\n",
              "      <td>0</td>\n",
              "      <td>0</td>\n",
              "      <td>0</td>\n",
              "      <td>0</td>\n",
              "      <td>0</td>\n",
              "      <td>1</td>\n",
              "      <td>0</td>\n",
              "      <td>1</td>\n",
              "      <td>1</td>\n",
              "      <td>42348</td>\n",
              "    </tr>\n",
              "    <tr>\n",
              "      <th>19388</th>\n",
              "      <td>34</td>\n",
              "      <td>1</td>\n",
              "      <td>53</td>\n",
              "      <td>5870515.0</td>\n",
              "      <td>197</td>\n",
              "      <td>81354</td>\n",
              "      <td>265</td>\n",
              "      <td>76669</td>\n",
              "      <td>0</td>\n",
              "      <td>1</td>\n",
              "      <td>0</td>\n",
              "      <td>1</td>\n",
              "      <td>0</td>\n",
              "      <td>0</td>\n",
              "      <td>0</td>\n",
              "      <td>0</td>\n",
              "      <td>1</td>\n",
              "      <td>1</td>\n",
              "      <td>16275</td>\n",
              "    </tr>\n",
              "    <tr>\n",
              "      <th>89104</th>\n",
              "      <td>48</td>\n",
              "      <td>1</td>\n",
              "      <td>29</td>\n",
              "      <td>2145618.0</td>\n",
              "      <td>160</td>\n",
              "      <td>30920</td>\n",
              "      <td>185</td>\n",
              "      <td>16538</td>\n",
              "      <td>1</td>\n",
              "      <td>0</td>\n",
              "      <td>0</td>\n",
              "      <td>1</td>\n",
              "      <td>0</td>\n",
              "      <td>0</td>\n",
              "      <td>0</td>\n",
              "      <td>0</td>\n",
              "      <td>1</td>\n",
              "      <td>1</td>\n",
              "      <td>2322</td>\n",
              "    </tr>\n",
              "    <tr>\n",
              "      <th>82082</th>\n",
              "      <td>44</td>\n",
              "      <td>1</td>\n",
              "      <td>24</td>\n",
              "      <td>7079059.0</td>\n",
              "      <td>111</td>\n",
              "      <td>71897</td>\n",
              "      <td>193</td>\n",
              "      <td>66156</td>\n",
              "      <td>1</td>\n",
              "      <td>0</td>\n",
              "      <td>0</td>\n",
              "      <td>0</td>\n",
              "      <td>1</td>\n",
              "      <td>0</td>\n",
              "      <td>0</td>\n",
              "      <td>0</td>\n",
              "      <td>1</td>\n",
              "      <td>1</td>\n",
              "      <td>8876</td>\n",
              "    </tr>\n",
              "  </tbody>\n",
              "</table>\n",
              "</div>"
            ],
            "text/plain": [
              "       purchase_value  sex  age  ...  n_dev_shared  n_ip_shared  n_country_shared\n",
              "29343              12    1   42  ...             1            1              3075\n",
              "12190              10    1   29  ...             1            1             42348\n",
              "19388              34    1   53  ...             1            1             16275\n",
              "89104              48    1   29  ...             1            1              2322\n",
              "82082              44    1   24  ...             1            1              8876\n",
              "\n",
              "[5 rows x 19 columns]"
            ]
          },
          "metadata": {
            "tags": []
          },
          "execution_count": 38
        }
      ]
    },
    {
      "cell_type": "code",
      "metadata": {
        "id": "043Ji8HDDx-A",
        "colab_type": "code",
        "colab": {
          "base_uri": "https://localhost:8080/",
          "height": 139
        },
        "outputId": "946164db-8df8-4159-fdaa-1f24c4d7ef1c"
      },
      "source": [
        "X_train.n_dev_shared.value_counts(dropna=False)"
      ],
      "execution_count": null,
      "outputs": [
        {
          "output_type": "execute_result",
          "data": {
            "text/plain": [
              "1    105427\n",
              "2      4774\n",
              "3       324\n",
              "4       124\n",
              "5        45\n",
              "6         6\n",
              "Name: n_dev_shared, dtype: int64"
            ]
          },
          "metadata": {
            "tags": []
          },
          "execution_count": 28
        }
      ]
    },
    {
      "cell_type": "code",
      "metadata": {
        "id": "GKU9yQGLEF17",
        "colab_type": "code",
        "colab": {
          "base_uri": "https://localhost:8080/",
          "height": 86
        },
        "outputId": "b9bc91d2-9f2c-4c31-d525-91e5b2689329"
      },
      "source": [
        "X_test.n_dev_shared.value_counts(dropna=False)"
      ],
      "execution_count": null,
      "outputs": [
        {
          "output_type": "execute_result",
          "data": {
            "text/plain": [
              "1    27330\n",
              "2      334\n",
              "3       12\n",
              "Name: n_dev_shared, dtype: int64"
            ]
          },
          "metadata": {
            "tags": []
          },
          "execution_count": 29
        }
      ]
    },
    {
      "cell_type": "markdown",
      "metadata": {
        "id": "SFeWR9WXEKJJ",
        "colab_type": "text"
      },
      "source": [
        "# Modeling"
      ]
    },
    {
      "cell_type": "markdown",
      "metadata": {
        "id": "ELxr7AbxEaNn",
        "colab_type": "text"
      },
      "source": [
        "LogisticRegression model"
      ]
    },
    {
      "cell_type": "code",
      "metadata": {
        "id": "YNaF4eSdEHQB",
        "colab_type": "code",
        "colab": {}
      },
      "source": [
        "# instantiate the model (using the default parameters)\n",
        "logreg = LogisticRegression()\n",
        "\n",
        "# fit the model with data\n",
        "logreg.fit(X_train,y_train)\n",
        "\n",
        "# predict on test\n",
        "y_pred=logreg.predict(X_test)"
      ],
      "execution_count": null,
      "outputs": []
    },
    {
      "cell_type": "code",
      "metadata": {
        "id": "_hF9eH4GEmA7",
        "colab_type": "code",
        "colab": {
          "base_uri": "https://localhost:8080/",
          "height": 69
        },
        "outputId": "9921deeb-0c29-4f7e-c444-709523deddec"
      },
      "source": [
        "# The model prefer to predict all obs to 0. Not a good model\n",
        "cm = metrics.confusion_matrix(y_test, y_pred)\n",
        "cmDF = pd.DataFrame(cm, columns=['pred_0', 'pred_1'], index=['true_0', 'true_1'])\n",
        "print(cmDF)"
      ],
      "execution_count": null,
      "outputs": [
        {
          "output_type": "stream",
          "text": [
            "        pred_0  pred_1\n",
            "true_0   27389       0\n",
            "true_1     287       0\n"
          ],
          "name": "stdout"
        }
      ]
    },
    {
      "cell_type": "markdown",
      "metadata": {
        "id": "vAVMEd3DEsiz",
        "colab_type": "text"
      },
      "source": [
        "Random Forest"
      ]
    },
    {
      "cell_type": "code",
      "metadata": {
        "id": "IJwGxYyxEneN",
        "colab_type": "code",
        "colab": {
          "base_uri": "https://localhost:8080/",
          "height": 174
        },
        "outputId": "b177b028-4530-47f7-e6b2-0a2f637b8b9f"
      },
      "source": [
        "# RF model could identify about half of fruad obs.\n",
        "classifier_RF = RandomForestClassifier(random_state=0)\n",
        "\n",
        "classifier_RF.fit(X_train, y_train)\n",
        "\n",
        "# predict class labels 0/1 for the test set\n",
        "predicted = classifier_RF.predict(X_test)\n",
        "\n",
        "# generate class probabilities\n",
        "probs = classifier_RF.predict_proba(X_test)\n",
        "\n",
        "# generate evaluation metrics\n",
        "print(\"%s: %r\" % (\"accuracy_score is: \", accuracy_score(y_test, predicted)))\n",
        "print(\"%s: %r\" % (\"roc_auc_score is: \", roc_auc_score(y_test, probs[:, 1])))\n",
        "print(\"%s: %r\" % (\"f1_score is: \", f1_score(y_test, predicted )))#string to int\n",
        "\n",
        "print (\"confusion_matrix is: \")\n",
        "cm = confusion_matrix(y_test, predicted)\n",
        "cmDF = pd.DataFrame(cm, columns=['pred_0', 'pred_1'], index=['true_0', 'true_1'])\n",
        "print(cmDF)\n",
        "print('recall =',float(cm[1,1])/(cm[1,0]+cm[1,1]))\n",
        "print('precision =', float(cm[1,1])/(cm[1,1] + cm[0,1]))#1.0"
      ],
      "execution_count": null,
      "outputs": [
        {
          "output_type": "stream",
          "text": [
            "accuracy_score is: : 0.9948692007515537\n",
            "roc_auc_score is: : 0.7801672204169557\n",
            "f1_score is: : 0.6712962962962962\n",
            "confusion_matrix is: \n",
            "        pred_0  pred_1\n",
            "true_0   27389       0\n",
            "true_1     142     145\n",
            "recall = 0.5052264808362369\n",
            "precision = 1.0\n"
          ],
          "name": "stdout"
        }
      ]
    },
    {
      "cell_type": "markdown",
      "metadata": {
        "id": "dJ851v71E3Zf",
        "colab_type": "text"
      },
      "source": [
        "Support Vector Machine"
      ]
    },
    {
      "cell_type": "code",
      "metadata": {
        "id": "aloLTlKddetv",
        "colab_type": "code",
        "colab": {}
      },
      "source": [
        "from sklearn import svm\n",
        "#Create a svm Classifier\n",
        "svmclassifier = svm.SVC(kernel='linear') # Linear Kernel\n",
        "\n",
        "#Train the model using the training sets\n",
        "svmclassifier.fit(X_train, y_train)\n",
        "\n",
        "#Predict the response for test dataset\n",
        "y_pred = svmclassifier.predict(X_test)\n",
        "\n",
        "# generate evaluation metrics\n",
        "print(\"%s: %r\" % (\"accuracy_score is: \", accuracy_score(y_test, predicted)))\n",
        "print(\"%s: %r\" % (\"roc_auc_score is: \", roc_auc_score(y_test, probs[:, 1])))\n",
        "print(\"%s: %r\" % (\"f1_score is: \", f1_score(y_test, predicted )))#string to int\n",
        "\n",
        "print (\"confusion_matrix is: \")\n",
        "cm = confusion_matrix(y_test, predicted)\n",
        "cmDF = pd.DataFrame(cm, columns=['pred_0', 'pred_1'], index=['true_0', 'true_1'])\n",
        "print(cmDF)\n",
        "print('recall =',float(cm[1,1])/(cm[1,0]+cm[1,1]))\n",
        "print('precision =', float(cm[1,1])/(cm[1,1] + cm[0,1]))#1.0"
      ],
      "execution_count": null,
      "outputs": []
    },
    {
      "cell_type": "markdown",
      "metadata": {
        "id": "HUfiy1e5E7qq",
        "colab_type": "text"
      },
      "source": [
        "XGBoost"
      ]
    },
    {
      "cell_type": "code",
      "metadata": {
        "id": "0od3x6d0E7_j",
        "colab_type": "code",
        "colab": {}
      },
      "source": [
        "# !pip install xgboost \n",
        "import xgboost as xgb\n",
        "from sklearn.metrics import mean_squared_error\n"
      ],
      "execution_count": null,
      "outputs": []
    },
    {
      "cell_type": "code",
      "metadata": {
        "id": "g_g2eFR0FATU",
        "colab_type": "code",
        "colab": {}
      },
      "source": [
        "data_dmatrix = xgb.DMatrix(data=X_train,label=y_train)"
      ],
      "execution_count": null,
      "outputs": []
    },
    {
      "cell_type": "code",
      "metadata": {
        "id": "TVdaO0C2SVUv",
        "colab_type": "code",
        "colab": {}
      },
      "source": [
        "xg_reg = xgb.XGBClassifier(objective ='reg:linear', colsample_bytree = 0.3, learning_rate = 0.1,\n",
        "                max_depth = 5, alpha = 10, n_estimators = 10)"
      ],
      "execution_count": null,
      "outputs": []
    },
    {
      "cell_type": "code",
      "metadata": {
        "id": "oqGZHFGaSYuU",
        "colab_type": "code",
        "colab": {
          "base_uri": "https://localhost:8080/",
          "height": 34
        },
        "outputId": "4776721a-0622-4423-8e08-bd44ef8ed4c4"
      },
      "source": [
        "xg_reg.fit(X_train,y_train)\n",
        "preds = xg_reg.predict(X_test)"
      ],
      "execution_count": null,
      "outputs": [
        {
          "output_type": "stream",
          "text": [
            "[19:01:31] WARNING: /workspace/src/objective/regression_obj.cu:152: reg:linear is now deprecated in favor of reg:squarederror.\n"
          ],
          "name": "stdout"
        }
      ]
    },
    {
      "cell_type": "code",
      "metadata": {
        "id": "kQLegv_8SdZF",
        "colab_type": "code",
        "colab": {
          "base_uri": "https://localhost:8080/",
          "height": 174
        },
        "outputId": "c02075d3-c951-4f61-d114-2095fd8790cf"
      },
      "source": [
        "# generate evaluation metrics\n",
        "print(\"%s: %r\" % (\"accuracy_score is: \", accuracy_score(y_test, preds)))\n",
        "print(\"%s: %r\" % (\"roc_auc_score is: \", roc_auc_score(y_test, preds)))\n",
        "print(\"%s: %r\" % (\"f1_score is: \", f1_score(y_test, preds )))#string to int\n",
        "\n",
        "print (\"confusion_matrix is: \")\n",
        "cm = confusion_matrix(y_test, preds)\n",
        "cmDF = pd.DataFrame(cm, columns=['pred_0', 'pred_1'], index=['true_0', 'true_1'])\n",
        "print(cmDF)\n",
        "print('recall =',float(cm[1,1])/(cm[1,0]+cm[1,1]))\n",
        "print('precision =', float(cm[1,1])/(cm[1,1] + cm[0,1]))#1.0"
      ],
      "execution_count": null,
      "outputs": [
        {
          "output_type": "stream",
          "text": [
            "accuracy_score is: : 0.9899551958375488\n",
            "roc_auc_score is: : 0.5156794425087108\n",
            "f1_score is: : 0.060810810810810814\n",
            "confusion_matrix is: \n",
            "        pred_0  pred_1\n",
            "true_0   27389       0\n",
            "true_1     278       9\n",
            "recall = 0.0313588850174216\n",
            "precision = 1.0\n"
          ],
          "name": "stdout"
        }
      ]
    },
    {
      "cell_type": "markdown",
      "metadata": {
        "id": "vckiDhFlE2ec",
        "colab_type": "text"
      },
      "source": [
        "SMOTE sampling"
      ]
    },
    {
      "cell_type": "code",
      "metadata": {
        "id": "gNyKnt_-ExZN",
        "colab_type": "code",
        "colab": {
          "base_uri": "https://localhost:8080/",
          "height": 52
        },
        "outputId": "8c3c7059-4017-45dd-a4d1-343feb5349a1"
      },
      "source": [
        "#SMOTE should be appiled in train data set, and validates in test data set\n",
        "\n",
        "#sampling_strategy = number of samples in the majority class over the number of samples in the minority class after resampling\n",
        "\n",
        "smote = SMOTE(random_state=12)\n",
        "x_train_sm, y_train_sm = smote.fit_sample(X_train, y_train)\n",
        "\n",
        "unique, counts = np.unique(y_train_sm, return_counts=True)\n",
        "\n",
        "print(np.asarray((unique, counts)).T)"
      ],
      "execution_count": null,
      "outputs": [
        {
          "output_type": "stream",
          "text": [
            "[[     0 109572]\n",
            " [     1 109572]]\n"
          ],
          "name": "stdout"
        }
      ]
    },
    {
      "cell_type": "code",
      "metadata": {
        "id": "DezbiWsQFRjm",
        "colab_type": "code",
        "colab": {
          "base_uri": "https://localhost:8080/",
          "height": 174
        },
        "outputId": "ec4471dd-760a-4a51-cd24-4e794dbfa3c4"
      },
      "source": [
        "#RF on smoted training data\n",
        "classifier_RF_sm = RandomForestClassifier(random_state=0)\n",
        "\n",
        "classifier_RF_sm.fit(x_train_sm, y_train_sm)\n",
        "\n",
        "# predict class labels for the test set\n",
        "predicted_sm = classifier_RF_sm.predict(X_test)\n",
        "\n",
        "# generate class probabilities\n",
        "probs_sm = classifier_RF_sm.predict_proba(X_test)\n",
        "\n",
        "\n",
        "# generate evaluation metrics\n",
        "print(\"%s: %r\" % (\"accuracy_score_sm is: \", accuracy_score(y_test, predicted_sm)))\n",
        "print(\"%s: %r\" % (\"roc_auc_score_sm is: \", roc_auc_score(y_test, probs_sm[:, 1])))\n",
        "print(\"%s: %r\" % (\"f1_score_sm is: \", f1_score(y_test, predicted_sm )))#string to int\n",
        "\n",
        "print (\"confusion_matrix_sm is: \")\n",
        "cm_sm = confusion_matrix(y_test, predicted_sm)\n",
        "cmDF = pd.DataFrame(cm_sm, columns=['pred_0', 'pred_1'], index=['true_0', 'true_1'])\n",
        "print(cmDF)\n",
        "print('recall or sens_sm =',float(cm_sm[1,1])/(cm_sm[1,0]+cm_sm[1,1]))\n",
        "print('precision_sm =', float(cm_sm[1,1])/(cm_sm[1,1] + cm_sm[0,1]))\n",
        "\n",
        "#different AUC??"
      ],
      "execution_count": null,
      "outputs": [
        {
          "output_type": "stream",
          "text": [
            "accuracy_score_sm is: : 0.9948692007515537\n",
            "roc_auc_score_sm is: : 0.7674601810564352\n",
            "f1_score_sm is: : 0.6712962962962962\n",
            "confusion_matrix_sm is: \n",
            "        pred_0  pred_1\n",
            "true_0   27389       0\n",
            "true_1     142     145\n",
            "recall or sens_sm = 0.5052264808362369\n",
            "precision_sm = 1.0\n"
          ],
          "name": "stdout"
        }
      ]
    },
    {
      "cell_type": "markdown",
      "metadata": {
        "id": "aHSqpZo6VzI_",
        "colab_type": "text"
      },
      "source": [
        "XgBoost SMOTE"
      ]
    },
    {
      "cell_type": "code",
      "metadata": {
        "id": "ZZ9lQy6iVxid",
        "colab_type": "code",
        "colab": {
          "base_uri": "https://localhost:8080/",
          "height": 34
        },
        "outputId": "4360ec0b-607d-40a5-e9a4-b61466190156"
      },
      "source": [
        "xg_reg = xgb.XGBClassifier(objective ='reg:linear', colsample_bytree = 0.3, learning_rate = 0.1,\n",
        "                max_depth = 5, alpha = 10, n_estimators = 10)\n",
        "xg_reg.fit(x_train_sm,y_train_sm)\n",
        "preds = xg_reg.predict(X_test)"
      ],
      "execution_count": null,
      "outputs": [
        {
          "output_type": "stream",
          "text": [
            "[19:14:13] WARNING: /workspace/src/objective/regression_obj.cu:152: reg:linear is now deprecated in favor of reg:squarederror.\n"
          ],
          "name": "stdout"
        }
      ]
    },
    {
      "cell_type": "code",
      "metadata": {
        "id": "SxAmXLubWBgd",
        "colab_type": "code",
        "colab": {
          "base_uri": "https://localhost:8080/",
          "height": 174
        },
        "outputId": "c867c6d1-b3de-4c33-a7d6-00eb1d81bde4"
      },
      "source": [
        "print(\"%s: %r\" % (\"accuracy_score is: \", accuracy_score(y_test, preds)))\n",
        "print(\"%s: %r\" % (\"roc_auc_score is: \", roc_auc_score(y_test, preds)))\n",
        "print(\"%s: %r\" % (\"f1_score is: \", f1_score(y_test, preds )))#string to int\n",
        "\n",
        "print (\"confusion_matrix is: \")\n",
        "cm = confusion_matrix(y_test, preds)\n",
        "cmDF = pd.DataFrame(cm, columns=['pred_0', 'pred_1'], index=['true_0', 'true_1'])\n",
        "print(cmDF)\n",
        "print('recall =',float(cm[1,1])/(cm[1,0]+cm[1,1]))\n",
        "print('precision =', float(cm[1,1])/(cm[1,1] + cm[0,1]))#1.0"
      ],
      "execution_count": null,
      "outputs": [
        {
          "output_type": "stream",
          "text": [
            "accuracy_score is: : 0.9934961699667582\n",
            "roc_auc_score is: : 0.7519195312648087\n",
            "f1_score is: : 0.6170212765957447\n",
            "confusion_matrix is: \n",
            "        pred_0  pred_1\n",
            "true_0   27351      38\n",
            "true_1     142     145\n",
            "recall = 0.5052264808362369\n",
            "precision = 0.7923497267759563\n"
          ],
          "name": "stdout"
        }
      ]
    },
    {
      "cell_type": "markdown",
      "metadata": {
        "id": "xtQsdPiIFaks",
        "colab_type": "text"
      },
      "source": [
        "# Parameter tuning by GridSearchCV"
      ]
    },
    {
      "cell_type": "code",
      "metadata": {
        "id": "4CzyL_dqFa9u",
        "colab_type": "code",
        "colab": {}
      },
      "source": [
        "# Eval metrics to be calculated for each combination of parameters and cv, they are all calculated(by scoring), but not necessarily used to pick the optimal(by refit)\n",
        "scorers = {\n",
        "    'precision_score': make_scorer(precision_score),\n",
        "    'recall_score': make_scorer(recall_score),\n",
        "    'f1_score': make_scorer(f1_score, pos_label=1)\n",
        "    \n",
        "}"
      ],
      "execution_count": null,
      "outputs": []
    },
    {
      "cell_type": "code",
      "metadata": {
        "id": "-VIpZvLBFrBf",
        "colab_type": "code",
        "colab": {}
      },
      "source": [
        "def grid_search_wrapper(model, parameters, refit_score='f1_score'): \n",
        "    \"\"\"\n",
        "    fits a GridSearchCV classifier using refit_score for optimization(refit on the best model according to refit_score)\n",
        "    prints classifier performance metrics\n",
        "    \"\"\"\n",
        "\n",
        "    grid_search = GridSearchCV(model, parameters, scoring=scorers, refit=refit_score, #model and parameter defined by previous function\n",
        "                           cv=3, return_train_score=True, n_jobs=-1)\n",
        "    \n",
        "    grid_search.fit(x_train_sm, y_train_sm)\n",
        "\n",
        "    # make the predictions\n",
        "    y_pred = grid_search.predict(X_test)\n",
        "    y_prob = grid_search.predict_proba(X_test)[:, 1]\n",
        "    \n",
        "    print('Best params for {}'.format(refit_score))\n",
        "    print(grid_search.best_params_)\n",
        "\n",
        "    # confusion matrix on the test data.\n",
        "    print('\\nConfusion matrix of Random Forest optimized for {} on the test data:'.format(refit_score))\n",
        "    cm = confusion_matrix(y_test, y_pred)\n",
        "    cmDF = pd.DataFrame(cm, columns=['pred_0', 'pred_1'], index=['true_0', 'true_1'])\n",
        "    print(cmDF)\n",
        "    \n",
        "    print(\"\\t%s: %r\" % (\"roc_auc_score is: \", roc_auc_score(y_test, y_prob)))\n",
        "    print(\"\\t%s: %r\" % (\"f1_score is: \", f1_score(y_test, y_pred)))#string to int\n",
        "\n",
        "    print('recall = ', float(cm[1,1]) / (cm[1,0] + cm[1,1]))\n",
        "    print('precision = ', float(cm[1,1]) / (cm[1, 1] + cm[0,1]))\n",
        "\n",
        "    return grid_search"
      ],
      "execution_count": null,
      "outputs": []
    },
    {
      "cell_type": "markdown",
      "metadata": {
        "id": "sQheU8tLF6wj",
        "colab_type": "text"
      },
      "source": [
        "Optimizing on f1_score on LR"
      ]
    },
    {
      "cell_type": "code",
      "metadata": {
        "id": "k9C8WRueF0ru",
        "colab_type": "code",
        "colab": {
          "base_uri": "https://localhost:8080/",
          "height": 209
        },
        "outputId": "f1bf0f01-a85c-4e55-c676-8401324dc53e"
      },
      "source": [
        "LRGrid = {\"C\" : np.logspace(-2,2,5), \"penalty\":[\"l1\",\"l2\"]}# l1 lasso l2 ridge\n",
        "#param_grid = {'C': [0.01, 0.1, 1, 10, 100], 'penalty': ['l1', 'l2']}\n",
        "logRegModel = LogisticRegression(random_state=0)\n",
        "\n",
        "grid_search_LR_f1 = grid_search_wrapper(logRegModel, LRGrid, refit_score='f1_score')"
      ],
      "execution_count": null,
      "outputs": [
        {
          "output_type": "stream",
          "text": [
            "Best params for f1_score\n",
            "{'C': 0.01, 'penalty': 'l2'}\n",
            "\n",
            "Confusion matrix of Random Forest optimized for f1_score on the test data:\n",
            "        pred_0  pred_1\n",
            "true_0   19611    7778\n",
            "true_1     101     186\n",
            "\troc_auc_score is: : 0.6935124772871634\n",
            "\tf1_score is: : 0.0450854441885832\n",
            "recall =  0.6480836236933798\n",
            "precision =  0.0233550979407333\n"
          ],
          "name": "stdout"
        }
      ]
    },
    {
      "cell_type": "markdown",
      "metadata": {
        "id": "c4BjBC5AF__t",
        "colab_type": "text"
      },
      "source": [
        "Optimizing on f1_score on RF"
      ]
    },
    {
      "cell_type": "code",
      "metadata": {
        "id": "X2UVDJgsF9kD",
        "colab_type": "code",
        "colab": {}
      },
      "source": [
        "parameters = {        \n",
        "'max_depth': [None, 5, 15],\n",
        "'n_estimators' :  [10,150],\n",
        "'class_weight' : [{0: 1, 1: w} for w in [0.2, 1, 100]]\n",
        "}\n",
        "\n",
        "clf = RandomForestClassifier(random_state=0)"
      ],
      "execution_count": null,
      "outputs": []
    },
    {
      "cell_type": "code",
      "metadata": {
        "id": "uAcT0fgPGB_l",
        "colab_type": "code",
        "colab": {
          "base_uri": "https://localhost:8080/",
          "height": 204
        },
        "outputId": "0cfe732e-e8c6-4334-a636-5cd1ab899aaa"
      },
      "source": [
        "grid_search_rf_f1 = grid_search_wrapper(clf, parameters, refit_score='f1_score') "
      ],
      "execution_count": null,
      "outputs": [
        {
          "output_type": "stream",
          "text": [
            "Best params for f1_score\n",
            "{'class_weight': {0: 1, 1: 0.2}, 'max_depth': None, 'n_estimators': 10}\n",
            "\n",
            "Confusion matrix of Random Forest optimized for f1_score on the test data:\n",
            "        pred_0  pred_1\n",
            "true_0   27389       0\n",
            "true_1     142     145\n",
            "\troc_auc_score is: : 0.7537836281332202\n",
            "\tf1_score is: : 0.6712962962962962\n",
            "recall =  0.5052264808362369\n",
            "precision =  1.0\n"
          ],
          "name": "stdout"
        }
      ]
    },
    {
      "cell_type": "code",
      "metadata": {
        "id": "EEVOgUGtGD_D",
        "colab_type": "code",
        "colab": {
          "base_uri": "https://localhost:8080/",
          "height": 153
        },
        "outputId": "bc40fd5f-66f9-4734-c406-4bb9ef418a1d"
      },
      "source": [
        "best_rf_model_f1 = grid_search_rf_f1.best_estimator_\n",
        "best_rf_model_f1"
      ],
      "execution_count": null,
      "outputs": [
        {
          "output_type": "execute_result",
          "data": {
            "text/plain": [
              "RandomForestClassifier(bootstrap=True, ccp_alpha=0.0,\n",
              "                       class_weight={0: 1, 1: 0.2}, criterion='gini',\n",
              "                       max_depth=None, max_features='auto', max_leaf_nodes=None,\n",
              "                       max_samples=None, min_impurity_decrease=0.0,\n",
              "                       min_impurity_split=None, min_samples_leaf=1,\n",
              "                       min_samples_split=2, min_weight_fraction_leaf=0.0,\n",
              "                       n_estimators=10, n_jobs=None, oob_score=False,\n",
              "                       random_state=0, verbose=0, warm_start=False)"
            ]
          },
          "metadata": {
            "tags": []
          },
          "execution_count": 51
        }
      ]
    },
    {
      "cell_type": "code",
      "metadata": {
        "id": "rMF3ltiuGFr9",
        "colab_type": "code",
        "colab": {
          "base_uri": "https://localhost:8080/",
          "height": 224
        },
        "outputId": "de090398-c1b0-4208-9523-8707b9d78528"
      },
      "source": [
        "results_f1 = pd.DataFrame(grid_search_rf_f1.cv_results_)\n",
        "results_sortf1 = results_f1.sort_values(by='mean_test_f1_score', ascending=False)\n",
        "results_sortf1[['mean_test_precision_score', 'mean_test_recall_score', 'mean_test_f1_score', 'mean_train_precision_score', 'mean_train_recall_score', 'mean_train_f1_score','param_max_depth', 'param_class_weight', 'param_n_estimators']].round(3).head()"
      ],
      "execution_count": null,
      "outputs": [
        {
          "output_type": "execute_result",
          "data": {
            "text/html": [
              "<div>\n",
              "<style scoped>\n",
              "    .dataframe tbody tr th:only-of-type {\n",
              "        vertical-align: middle;\n",
              "    }\n",
              "\n",
              "    .dataframe tbody tr th {\n",
              "        vertical-align: top;\n",
              "    }\n",
              "\n",
              "    .dataframe thead th {\n",
              "        text-align: right;\n",
              "    }\n",
              "</style>\n",
              "<table border=\"1\" class=\"dataframe\">\n",
              "  <thead>\n",
              "    <tr style=\"text-align: right;\">\n",
              "      <th></th>\n",
              "      <th>mean_test_precision_score</th>\n",
              "      <th>mean_test_recall_score</th>\n",
              "      <th>mean_test_f1_score</th>\n",
              "      <th>mean_train_precision_score</th>\n",
              "      <th>mean_train_recall_score</th>\n",
              "      <th>mean_train_f1_score</th>\n",
              "      <th>param_max_depth</th>\n",
              "      <th>param_class_weight</th>\n",
              "      <th>param_n_estimators</th>\n",
              "    </tr>\n",
              "  </thead>\n",
              "  <tbody>\n",
              "    <tr>\n",
              "      <th>0</th>\n",
              "      <td>1.0</td>\n",
              "      <td>0.527</td>\n",
              "      <td>0.69</td>\n",
              "      <td>1.0</td>\n",
              "      <td>0.857</td>\n",
              "      <td>0.923</td>\n",
              "      <td>None</td>\n",
              "      <td>{0: 1, 1: 0.2}</td>\n",
              "      <td>10</td>\n",
              "    </tr>\n",
              "    <tr>\n",
              "      <th>7</th>\n",
              "      <td>1.0</td>\n",
              "      <td>0.527</td>\n",
              "      <td>0.69</td>\n",
              "      <td>1.0</td>\n",
              "      <td>1.000</td>\n",
              "      <td>1.000</td>\n",
              "      <td>None</td>\n",
              "      <td>{0: 1, 1: 1}</td>\n",
              "      <td>150</td>\n",
              "    </tr>\n",
              "    <tr>\n",
              "      <th>13</th>\n",
              "      <td>1.0</td>\n",
              "      <td>0.527</td>\n",
              "      <td>0.69</td>\n",
              "      <td>1.0</td>\n",
              "      <td>1.000</td>\n",
              "      <td>1.000</td>\n",
              "      <td>None</td>\n",
              "      <td>{0: 1, 1: 100}</td>\n",
              "      <td>150</td>\n",
              "    </tr>\n",
              "    <tr>\n",
              "      <th>11</th>\n",
              "      <td>1.0</td>\n",
              "      <td>0.527</td>\n",
              "      <td>0.69</td>\n",
              "      <td>1.0</td>\n",
              "      <td>0.584</td>\n",
              "      <td>0.737</td>\n",
              "      <td>15</td>\n",
              "      <td>{0: 1, 1: 1}</td>\n",
              "      <td>150</td>\n",
              "    </tr>\n",
              "    <tr>\n",
              "      <th>1</th>\n",
              "      <td>1.0</td>\n",
              "      <td>0.527</td>\n",
              "      <td>0.69</td>\n",
              "      <td>1.0</td>\n",
              "      <td>1.000</td>\n",
              "      <td>1.000</td>\n",
              "      <td>None</td>\n",
              "      <td>{0: 1, 1: 0.2}</td>\n",
              "      <td>150</td>\n",
              "    </tr>\n",
              "  </tbody>\n",
              "</table>\n",
              "</div>"
            ],
            "text/plain": [
              "    mean_test_precision_score  ...  param_n_estimators\n",
              "0                         1.0  ...                  10\n",
              "7                         1.0  ...                 150\n",
              "13                        1.0  ...                 150\n",
              "11                        1.0  ...                 150\n",
              "1                         1.0  ...                 150\n",
              "\n",
              "[5 rows x 9 columns]"
            ]
          },
          "metadata": {
            "tags": []
          },
          "execution_count": 52
        }
      ]
    },
    {
      "cell_type": "markdown",
      "metadata": {
        "id": "uIkJe529GNtI",
        "colab_type": "text"
      },
      "source": [
        "Feature Importance"
      ]
    },
    {
      "cell_type": "code",
      "metadata": {
        "id": "lj5L7ziaGI6_",
        "colab_type": "code",
        "colab": {
          "base_uri": "https://localhost:8080/",
          "height": 638
        },
        "outputId": "3c3fe466-8f28-4a77-949e-a5d76ce4bf5a"
      },
      "source": [
        "pd.DataFrame(best_rf_model_f1.feature_importances_, index = X_train.columns, columns=['importance']).sort_values('importance', ascending=False)"
      ],
      "execution_count": null,
      "outputs": [
        {
          "output_type": "execute_result",
          "data": {
            "text/html": [
              "<div>\n",
              "<style scoped>\n",
              "    .dataframe tbody tr th:only-of-type {\n",
              "        vertical-align: middle;\n",
              "    }\n",
              "\n",
              "    .dataframe tbody tr th {\n",
              "        vertical-align: top;\n",
              "    }\n",
              "\n",
              "    .dataframe thead th {\n",
              "        text-align: right;\n",
              "    }\n",
              "</style>\n",
              "<table border=\"1\" class=\"dataframe\">\n",
              "  <thead>\n",
              "    <tr style=\"text-align: right;\">\n",
              "      <th></th>\n",
              "      <th>importance</th>\n",
              "    </tr>\n",
              "  </thead>\n",
              "  <tbody>\n",
              "    <tr>\n",
              "      <th>interval_after_signup</th>\n",
              "      <td>0.417489</td>\n",
              "    </tr>\n",
              "    <tr>\n",
              "      <th>purchase_days_of_year</th>\n",
              "      <td>0.125334</td>\n",
              "    </tr>\n",
              "    <tr>\n",
              "      <th>purchase_seconds_of_day</th>\n",
              "      <td>0.081799</td>\n",
              "    </tr>\n",
              "    <tr>\n",
              "      <th>signup_seconds_of_day</th>\n",
              "      <td>0.078478</td>\n",
              "    </tr>\n",
              "    <tr>\n",
              "      <th>n_dev_shared</th>\n",
              "      <td>0.072574</td>\n",
              "    </tr>\n",
              "    <tr>\n",
              "      <th>signup_days_of_year</th>\n",
              "      <td>0.054064</td>\n",
              "    </tr>\n",
              "    <tr>\n",
              "      <th>purchase_value</th>\n",
              "      <td>0.043650</td>\n",
              "    </tr>\n",
              "    <tr>\n",
              "      <th>age</th>\n",
              "      <td>0.039094</td>\n",
              "    </tr>\n",
              "    <tr>\n",
              "      <th>n_country_shared</th>\n",
              "      <td>0.024125</td>\n",
              "    </tr>\n",
              "    <tr>\n",
              "      <th>n_ip_shared</th>\n",
              "      <td>0.017022</td>\n",
              "    </tr>\n",
              "    <tr>\n",
              "      <th>sex</th>\n",
              "      <td>0.007894</td>\n",
              "    </tr>\n",
              "    <tr>\n",
              "      <th>browser_Chrome</th>\n",
              "      <td>0.006778</td>\n",
              "    </tr>\n",
              "    <tr>\n",
              "      <th>source_SEO</th>\n",
              "      <td>0.006321</td>\n",
              "    </tr>\n",
              "    <tr>\n",
              "      <th>browser_FireFox</th>\n",
              "      <td>0.005802</td>\n",
              "    </tr>\n",
              "    <tr>\n",
              "      <th>source_Ads</th>\n",
              "      <td>0.005355</td>\n",
              "    </tr>\n",
              "    <tr>\n",
              "      <th>source_Direct</th>\n",
              "      <td>0.005003</td>\n",
              "    </tr>\n",
              "    <tr>\n",
              "      <th>browser_Safari</th>\n",
              "      <td>0.004798</td>\n",
              "    </tr>\n",
              "    <tr>\n",
              "      <th>browser_IE</th>\n",
              "      <td>0.003601</td>\n",
              "    </tr>\n",
              "    <tr>\n",
              "      <th>browser_Opera</th>\n",
              "      <td>0.000819</td>\n",
              "    </tr>\n",
              "  </tbody>\n",
              "</table>\n",
              "</div>"
            ],
            "text/plain": [
              "                         importance\n",
              "interval_after_signup      0.417489\n",
              "purchase_days_of_year      0.125334\n",
              "purchase_seconds_of_day    0.081799\n",
              "signup_seconds_of_day      0.078478\n",
              "n_dev_shared               0.072574\n",
              "signup_days_of_year        0.054064\n",
              "purchase_value             0.043650\n",
              "age                        0.039094\n",
              "n_country_shared           0.024125\n",
              "n_ip_shared                0.017022\n",
              "sex                        0.007894\n",
              "browser_Chrome             0.006778\n",
              "source_SEO                 0.006321\n",
              "browser_FireFox            0.005802\n",
              "source_Ads                 0.005355\n",
              "source_Direct              0.005003\n",
              "browser_Safari             0.004798\n",
              "browser_IE                 0.003601\n",
              "browser_Opera              0.000819"
            ]
          },
          "metadata": {
            "tags": []
          },
          "execution_count": 53
        }
      ]
    },
    {
      "cell_type": "markdown",
      "metadata": {
        "id": "KaOqENUjaqju",
        "colab_type": "text"
      },
      "source": [
        "Optimizing recall_score on RF"
      ]
    },
    {
      "cell_type": "code",
      "metadata": {
        "id": "MI0LWFAOGPxN",
        "colab_type": "code",
        "colab": {
          "base_uri": "https://localhost:8080/",
          "height": 204
        },
        "outputId": "a16fb302-a499-4f7a-ecbe-467f2e1231c2"
      },
      "source": [
        "grid_search_rf_recall = grid_search_wrapper(clf, parameters, refit_score='recall_score')"
      ],
      "execution_count": null,
      "outputs": [
        {
          "output_type": "stream",
          "text": [
            "Best params for recall_score\n",
            "{'class_weight': {0: 1, 1: 100}, 'max_depth': 5, 'n_estimators': 150}\n",
            "\n",
            "Confusion matrix of Random Forest optimized for recall_score on the test data:\n",
            "        pred_0  pred_1\n",
            "true_0   27146     243\n",
            "true_1     132     155\n",
            "\troc_auc_score is: : 0.7904661234456265\n",
            "\tf1_score is: : 0.4525547445255475\n",
            "recall =  0.5400696864111498\n",
            "precision =  0.38944723618090454\n"
          ],
          "name": "stdout"
        }
      ]
    },
    {
      "cell_type": "code",
      "metadata": {
        "id": "Tol7z99eauP8",
        "colab_type": "code",
        "colab": {
          "base_uri": "https://localhost:8080/",
          "height": 153
        },
        "outputId": "8f848269-be90-4bed-f9d6-eacfa3ae240e"
      },
      "source": [
        "best_RF_model_recall = grid_search_rf_recall.best_estimator_\n",
        "best_RF_model_recall"
      ],
      "execution_count": null,
      "outputs": [
        {
          "output_type": "execute_result",
          "data": {
            "text/plain": [
              "RandomForestClassifier(bootstrap=True, ccp_alpha=0.0,\n",
              "                       class_weight={0: 1, 1: 100}, criterion='gini',\n",
              "                       max_depth=5, max_features='auto', max_leaf_nodes=None,\n",
              "                       max_samples=None, min_impurity_decrease=0.0,\n",
              "                       min_impurity_split=None, min_samples_leaf=1,\n",
              "                       min_samples_split=2, min_weight_fraction_leaf=0.0,\n",
              "                       n_estimators=150, n_jobs=None, oob_score=False,\n",
              "                       random_state=0, verbose=0, warm_start=False)"
            ]
          },
          "metadata": {
            "tags": []
          },
          "execution_count": 55
        }
      ]
    },
    {
      "cell_type": "code",
      "metadata": {
        "id": "1mI4woI2a02f",
        "colab_type": "code",
        "colab": {
          "base_uri": "https://localhost:8080/",
          "height": 224
        },
        "outputId": "33980688-b53d-4bb1-a198-6f525db6dc6c"
      },
      "source": [
        "# predict class labels for the test set\n",
        "predictedBest_recall = best_RF_model_recall.predict(X_test)\n",
        "\n",
        "# generate class probabilities\n",
        "probsBest_recall = best_RF_model_recall.predict_proba(X_test)\n",
        "\n",
        "results_recall = pd.DataFrame(grid_search_rf_recall.cv_results_)# recall score is different from above, as above is metric on test data, this is performance on cv data\n",
        "results_sortrecall = results_recall.sort_values(by='mean_test_recall_score', ascending=False)\n",
        "results_sortrecall[['mean_test_precision_score', 'mean_test_recall_score', 'mean_test_f1_score', 'mean_train_precision_score', 'mean_train_recall_score', 'mean_train_f1_score','param_max_depth', 'param_class_weight', 'param_n_estimators']].round(3).head()\n",
        "#recall is worse than default rf?? no this is on test, but train recall is better"
      ],
      "execution_count": null,
      "outputs": [
        {
          "output_type": "execute_result",
          "data": {
            "text/html": [
              "<div>\n",
              "<style scoped>\n",
              "    .dataframe tbody tr th:only-of-type {\n",
              "        vertical-align: middle;\n",
              "    }\n",
              "\n",
              "    .dataframe tbody tr th {\n",
              "        vertical-align: top;\n",
              "    }\n",
              "\n",
              "    .dataframe thead th {\n",
              "        text-align: right;\n",
              "    }\n",
              "</style>\n",
              "<table border=\"1\" class=\"dataframe\">\n",
              "  <thead>\n",
              "    <tr style=\"text-align: right;\">\n",
              "      <th></th>\n",
              "      <th>mean_test_precision_score</th>\n",
              "      <th>mean_test_recall_score</th>\n",
              "      <th>mean_test_f1_score</th>\n",
              "      <th>mean_train_precision_score</th>\n",
              "      <th>mean_train_recall_score</th>\n",
              "      <th>mean_train_f1_score</th>\n",
              "      <th>param_max_depth</th>\n",
              "      <th>param_class_weight</th>\n",
              "      <th>param_n_estimators</th>\n",
              "    </tr>\n",
              "  </thead>\n",
              "  <tbody>\n",
              "    <tr>\n",
              "      <th>15</th>\n",
              "      <td>0.159</td>\n",
              "      <td>0.636</td>\n",
              "      <td>0.254</td>\n",
              "      <td>0.164</td>\n",
              "      <td>0.656</td>\n",
              "      <td>0.262</td>\n",
              "      <td>5</td>\n",
              "      <td>{0: 1, 1: 100}</td>\n",
              "      <td>150</td>\n",
              "    </tr>\n",
              "    <tr>\n",
              "      <th>14</th>\n",
              "      <td>0.160</td>\n",
              "      <td>0.633</td>\n",
              "      <td>0.255</td>\n",
              "      <td>0.162</td>\n",
              "      <td>0.652</td>\n",
              "      <td>0.260</td>\n",
              "      <td>5</td>\n",
              "      <td>{0: 1, 1: 100}</td>\n",
              "      <td>10</td>\n",
              "    </tr>\n",
              "    <tr>\n",
              "      <th>16</th>\n",
              "      <td>0.675</td>\n",
              "      <td>0.533</td>\n",
              "      <td>0.593</td>\n",
              "      <td>0.759</td>\n",
              "      <td>0.813</td>\n",
              "      <td>0.782</td>\n",
              "      <td>15</td>\n",
              "      <td>{0: 1, 1: 100}</td>\n",
              "      <td>10</td>\n",
              "    </tr>\n",
              "    <tr>\n",
              "      <th>0</th>\n",
              "      <td>1.000</td>\n",
              "      <td>0.527</td>\n",
              "      <td>0.690</td>\n",
              "      <td>1.000</td>\n",
              "      <td>0.857</td>\n",
              "      <td>0.923</td>\n",
              "      <td>None</td>\n",
              "      <td>{0: 1, 1: 0.2}</td>\n",
              "      <td>10</td>\n",
              "    </tr>\n",
              "    <tr>\n",
              "      <th>1</th>\n",
              "      <td>1.000</td>\n",
              "      <td>0.527</td>\n",
              "      <td>0.690</td>\n",
              "      <td>1.000</td>\n",
              "      <td>1.000</td>\n",
              "      <td>1.000</td>\n",
              "      <td>None</td>\n",
              "      <td>{0: 1, 1: 0.2}</td>\n",
              "      <td>150</td>\n",
              "    </tr>\n",
              "  </tbody>\n",
              "</table>\n",
              "</div>"
            ],
            "text/plain": [
              "    mean_test_precision_score  ...  param_n_estimators\n",
              "15                      0.159  ...                 150\n",
              "14                      0.160  ...                  10\n",
              "16                      0.675  ...                  10\n",
              "0                       1.000  ...                  10\n",
              "1                       1.000  ...                 150\n",
              "\n",
              "[5 rows x 9 columns]"
            ]
          },
          "metadata": {
            "tags": []
          },
          "execution_count": 56
        }
      ]
    },
    {
      "cell_type": "markdown",
      "metadata": {
        "id": "F5z-DB97WgRY",
        "colab_type": "text"
      },
      "source": [
        "Parameter tuning by Random\n",
        "SearchCV"
      ]
    },
    {
      "cell_type": "code",
      "metadata": {
        "id": "wNL4hMu3X5XY",
        "colab_type": "code",
        "colab": {}
      },
      "source": [
        "def random_search_wrapper(model, parameters, refit_score='f1_score'): \n",
        "    \"\"\"\n",
        "    fits a RandomSearchCV classifier using refit_score for optimization(refit on the best model according to refit_score)\n",
        "    prints classifier performance metrics\n",
        "    \"\"\"\n",
        "\n",
        "    random_search = RandomizedSearchCV(model, parameters, scoring=scorers, refit=refit_score, #model and parameter defined by previous function\n",
        "                           cv=3, return_train_score=True, n_jobs=-1)\n",
        "    \n",
        "    random_search.fit(x_train_sm, y_train_sm)\n",
        "\n",
        "    # make the predictions\n",
        "    y_pred = random_search.predict(X_test)\n",
        "    y_prob = random_search.predict_proba(X_test)[:, 1]\n",
        "    \n",
        "    print('Best params for {}'.format(refit_score))\n",
        "    print(random_search.best_params_)\n",
        "\n",
        "    # confusion matrix on the test data.\n",
        "    print('\\nConfusion matrix of Random Forest optimized for {} on the test data:'.format(refit_score))\n",
        "    cm = confusion_matrix(y_test, y_pred)\n",
        "    cmDF = pd.DataFrame(cm, columns=['pred_0', 'pred_1'], index=['true_0', 'true_1'])\n",
        "    print(cmDF)\n",
        "    \n",
        "    print(\"\\t%s: %r\" % (\"roc_auc_score is: \", roc_auc_score(y_test, y_prob)))\n",
        "    print(\"\\t%s: %r\" % (\"f1_score is: \", f1_score(y_test, y_pred)))#string to int\n",
        "\n",
        "    print('recall = ', float(cm[1,1]) / (cm[1,0] + cm[1,1]))\n",
        "    print('precision = ', float(cm[1,1]) / (cm[1, 1] + cm[0,1]))\n",
        "\n",
        "    return random_search"
      ],
      "execution_count": null,
      "outputs": []
    },
    {
      "cell_type": "markdown",
      "metadata": {
        "colab_type": "text",
        "id": "zZMEMcmKjeMZ"
      },
      "source": [
        "Optimizing on f1_score on LR"
      ]
    },
    {
      "cell_type": "code",
      "metadata": {
        "id": "zXZ-jLmCZTx9",
        "colab_type": "code",
        "colab": {
          "base_uri": "https://localhost:8080/",
          "height": 209
        },
        "outputId": "51a9c442-ef59-4445-ff76-2b06f7dbfe9f"
      },
      "source": [
        "parameters_LR = {\"C\" : np.logspace(-2,2,5), \"penalty\":[\"l1\",\"l2\"]}# l1 lasso l2 ridge\n",
        "logRegModel = LogisticRegression(random_state=0)\n",
        "\n",
        "Random_search_LR_f1 = random_search_wrapper(logRegModel, parameters_LR, refit_score='f1_score')"
      ],
      "execution_count": null,
      "outputs": [
        {
          "output_type": "stream",
          "text": [
            "Best params for f1_score\n",
            "{'penalty': 'l2', 'C': 0.01}\n",
            "\n",
            "Confusion matrix of Random Forest optimized for f1_score on the test data:\n",
            "        pred_0  pred_1\n",
            "true_0   19611    7778\n",
            "true_1     101     186\n",
            "\troc_auc_score is: : 0.6935124772871634\n",
            "\tf1_score is: : 0.0450854441885832\n",
            "recall =  0.6480836236933798\n",
            "precision =  0.0233550979407333\n"
          ],
          "name": "stdout"
        }
      ]
    },
    {
      "cell_type": "markdown",
      "metadata": {
        "id": "_LVgkm9Vji3h",
        "colab_type": "text"
      },
      "source": [
        "Optimizing on f1_score on RF"
      ]
    },
    {
      "cell_type": "code",
      "metadata": {
        "id": "lj5BNqsOkjgE",
        "colab_type": "code",
        "colab": {
          "base_uri": "https://localhost:8080/",
          "height": 209
        },
        "outputId": "b1850383-7b24-4619-c3a3-706d0581fe39"
      },
      "source": [
        "parameters_rf = {        \n",
        "'max_depth': [None, 5, 15],\n",
        "'n_estimators' :  [10,150],\n",
        "'class_weight' : [{0: 1, 1: w} for w in [0.2, 1, 100]]\n",
        "}\n",
        "\n",
        "clf = RandomForestClassifier(random_state=0)\n",
        "Random_search_RF_f1 = random_search_wrapper(clf, parameters, refit_score='f1_score')"
      ],
      "execution_count": null,
      "outputs": [
        {
          "output_type": "stream",
          "text": [
            "Best params for f1_score\n",
            "{'n_estimators': 150, 'max_depth': None, 'class_weight': {0: 1, 1: 0.2}}\n",
            "\n",
            "Confusion matrix of Random Forest optimized for f1_score on the test data:\n",
            "        pred_0  pred_1\n",
            "true_0   27389       0\n",
            "true_1     142     145\n",
            "\troc_auc_score is: : 0.7595866521352006\n",
            "\tf1_score is: : 0.6712962962962962\n",
            "recall =  0.5052264808362369\n",
            "precision =  1.0\n"
          ],
          "name": "stdout"
        }
      ]
    },
    {
      "cell_type": "code",
      "metadata": {
        "id": "NTIe0Icuk1WE",
        "colab_type": "code",
        "colab": {}
      },
      "source": [
        "best_rf_model_f1 = Random_search_RF_f1.best_estimator_\n",
        "best_rf_model_f1"
      ],
      "execution_count": null,
      "outputs": []
    },
    {
      "cell_type": "markdown",
      "metadata": {
        "id": "YtJgSbOqjq0U",
        "colab_type": "text"
      },
      "source": [
        "Optimizing on f1_score on XgBoost"
      ]
    },
    {
      "cell_type": "code",
      "metadata": {
        "id": "xfiPtgBUk9YK",
        "colab_type": "code",
        "colab": {}
      },
      "source": [
        "parameters_xg = {        \n",
        "\n",
        "\n",
        "}\n",
        "xg = xgb.XGBClassifier()\n",
        "Random_search_xg_f1 = random_search_wrapper(xg, parameters, refit_score='f1_score')"
      ],
      "execution_count": null,
      "outputs": []
    },
    {
      "cell_type": "markdown",
      "metadata": {
        "id": "6cKXnCEIkatG",
        "colab_type": "text"
      },
      "source": [
        "Optimizing recall_score on RF"
      ]
    },
    {
      "cell_type": "markdown",
      "metadata": {
        "id": "nAhwht_ykbLW",
        "colab_type": "text"
      },
      "source": [
        "Optimizing recall_score on XgBoost"
      ]
    }
  ]
}